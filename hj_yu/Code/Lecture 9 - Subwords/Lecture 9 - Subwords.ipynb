{
  "nbformat": 4,
  "nbformat_minor": 0,
  "metadata": {
    "accelerator": "GPU",
    "colab": {
      "name": "l09c06_nlp_subwords.ipynb",
      "provenance": [],
      "collapsed_sections": [],
      "toc_visible": true
    },
    "kernelspec": {
      "display_name": "Python 3",
      "name": "python3"
    }
  },
  "cells": [
    {
      "cell_type": "markdown",
      "metadata": {
        "id": "punL79CN7Ox6"
      },
      "source": [
        "##### Copyright 2020 The TensorFlow Authors."
      ]
    },
    {
      "cell_type": "code",
      "metadata": {
        "cellView": "form",
        "id": "_ckMIh7O7s6D"
      },
      "source": [
        "#@title Licensed under the Apache License, Version 2.0 (the \"License\");\n",
        "# you may not use this file except in compliance with the License.\n",
        "# You may obtain a copy of the License at\n",
        "#\n",
        "# https://www.apache.org/licenses/LICENSE-2.0\n",
        "#\n",
        "# Unless required by applicable law or agreed to in writing, software\n",
        "# distributed under the License is distributed on an \"AS IS\" BASIS,\n",
        "# WITHOUT WARRANTIES OR CONDITIONS OF ANY KIND, either express or implied.\n",
        "# See the License for the specific language governing permissions and\n",
        "# limitations under the License."
      ],
      "execution_count": null,
      "outputs": []
    },
    {
      "cell_type": "markdown",
      "metadata": {
        "id": "CH5gnvxl-N3U"
      },
      "source": [
        "# What's in a (sub)word?"
      ]
    },
    {
      "cell_type": "markdown",
      "metadata": {
        "id": "S5Uhzt6vVIB2"
      },
      "source": [
        "<table class=\"tfo-notebook-buttons\" align=\"left\">\n",
        "  <td>\n",
        "    <a target=\"_blank\" href=\"https://colab.research.google.com/github/tensorflow/examples/blob/master/courses/udacity_intro_to_tensorflow_for_deep_learning/l09c06_nlp_subwords.ipynb\"><img src=\"https://www.tensorflow.org/images/colab_logo_32px.png\" />Run in Google Colab</a>\n",
        "  </td>\n",
        "  <td>\n",
        "    <a target=\"_blank\" href=\"https://github.com/tensorflow/examples/blob/master/courses/udacity_intro_to_tensorflow_for_deep_learning/l09c06_nlp_subwords.ipynb\"><img src=\"https://www.tensorflow.org/images/GitHub-Mark-32px.png\" />View source on GitHub</a>\n",
        "  </td>\n",
        "</table>"
      ]
    },
    {
      "cell_type": "markdown",
      "metadata": {
        "id": "ykxAKKa1Dl0s"
      },
      "source": [
        "In this colab, we'll work with subwords, or words made up of the pieces of larger words, and see how that impacts our network and related embeddings."
      ]
    },
    {
      "cell_type": "markdown",
      "metadata": {
        "id": "QQCr_NAT-g5w"
      },
      "source": [
        "## Import TensorFlow and related functions"
      ]
    },
    {
      "cell_type": "code",
      "metadata": {
        "id": "Q8Wa_ZlX-mPH"
      },
      "source": [
        "import tensorflow as tf\n",
        "\n",
        "from tensorflow.keras.preprocessing.sequence import pad_sequences"
      ],
      "execution_count": 1,
      "outputs": []
    },
    {
      "cell_type": "markdown",
      "metadata": {
        "id": "MRHk-4Te-yLJ"
      },
      "source": [
        "## Get the original dataset\n",
        "\n",
        "We'll once again use the dataset containing Amazon and Yelp reviews. This dataset was originally extracted from [here](https://www.kaggle.com/marklvl/sentiment-labelled-sentences-data-set)."
      ]
    },
    {
      "cell_type": "code",
      "metadata": {
        "id": "XJAxrOLi-02C",
        "outputId": "93982b58-6ce2-4e83-f77d-575cce08e9f5",
        "colab": {
          "base_uri": "https://localhost:8080/"
        }
      },
      "source": [
        "!wget --no-check-certificate \\\n",
        "    https://drive.google.com/uc?id=13ySLC_ue6Umt9RJYSeM2t-V0kCv-4C-P \\\n",
        "    -O /tmp/sentiment.csv"
      ],
      "execution_count": 2,
      "outputs": [
        {
          "output_type": "stream",
          "name": "stdout",
          "text": [
            "--2021-11-20 10:05:14--  https://drive.google.com/uc?id=13ySLC_ue6Umt9RJYSeM2t-V0kCv-4C-P\n",
            "Resolving drive.google.com (drive.google.com)... 108.177.15.101, 108.177.15.102, 108.177.15.100, ...\n",
            "Connecting to drive.google.com (drive.google.com)|108.177.15.101|:443... connected.\n",
            "HTTP request sent, awaiting response... 302 Moved Temporarily\n",
            "Location: https://doc-08-ak-docs.googleusercontent.com/docs/securesc/ha0ro937gcuc7l7deffksulhg5h7mbp1/ic42qph9d8a63irmlfskfmse8v5hau00/1637402700000/11118900490791463723/*/13ySLC_ue6Umt9RJYSeM2t-V0kCv-4C-P [following]\n",
            "Warning: wildcards not supported in HTTP.\n",
            "--2021-11-20 10:05:14--  https://doc-08-ak-docs.googleusercontent.com/docs/securesc/ha0ro937gcuc7l7deffksulhg5h7mbp1/ic42qph9d8a63irmlfskfmse8v5hau00/1637402700000/11118900490791463723/*/13ySLC_ue6Umt9RJYSeM2t-V0kCv-4C-P\n",
            "Resolving doc-08-ak-docs.googleusercontent.com (doc-08-ak-docs.googleusercontent.com)... 173.194.76.132, 2a00:1450:400c:c00::84\n",
            "Connecting to doc-08-ak-docs.googleusercontent.com (doc-08-ak-docs.googleusercontent.com)|173.194.76.132|:443... connected.\n",
            "HTTP request sent, awaiting response... 200 OK\n",
            "Length: 127831 (125K) [text/csv]\n",
            "Saving to: ‘/tmp/sentiment.csv’\n",
            "\n",
            "/tmp/sentiment.csv  100%[===================>] 124.83K  --.-KB/s    in 0.001s  \n",
            "\n",
            "2021-11-20 10:05:15 (81.8 MB/s) - ‘/tmp/sentiment.csv’ saved [127831/127831]\n",
            "\n"
          ]
        }
      ]
    },
    {
      "cell_type": "code",
      "metadata": {
        "id": "Dr-EDUKP_HBl"
      },
      "source": [
        "import pandas as pd\n",
        "\n",
        "dataset = pd.read_csv('/tmp/sentiment.csv')\n",
        "\n",
        "# Just extract out sentences and labels first - we will create subwords here\n",
        "sentences = dataset['text'].tolist()\n",
        "labels = dataset['sentiment'].tolist()"
      ],
      "execution_count": 3,
      "outputs": []
    },
    {
      "cell_type": "markdown",
      "metadata": {
        "id": "8zut9Wng_R3B"
      },
      "source": [
        "## Create a subwords dataset\n",
        "\n",
        "We can use the existing Amazon and Yelp reviews dataset with `tensorflow_datasets`'s `SubwordTextEncoder` functionality. `SubwordTextEncoder.build_from_corpus()` will create a tokenizer for us. You could also use this functionality to get subwords from a much larger corpus of text as well, but we'll just use our existing dataset here.\n",
        "\n",
        "The Amazon and Yelp dataset we are using isn't super large, so we'll create a subword `vocab_size` of only the 1,000 most common words, as well as cutting off each subword to be at most 5 characters.\n",
        "\n",
        "Check out the related documentation [here](https://www.tensorflow.org/datasets/api_docs/python/tfds/features/text/SubwordTextEncoder#build_from_corpus)."
      ]
    },
    {
      "cell_type": "code",
      "metadata": {
        "id": "aElsgxia_43g"
      },
      "source": [
        "import tensorflow_datasets as tfds\n",
        "\n",
        "# subwordtextencoder = tokenizer 역할!\n",
        "vocab_size = 1000\n",
        "tokenizer = tfds.deprecated.text.SubwordTextEncoder.build_from_corpus(sentences, vocab_size, max_subword_length=5)"
      ],
      "execution_count": 4,
      "outputs": []
    },
    {
      "cell_type": "code",
      "metadata": {
        "id": "0XNZWGKqBDc3",
        "outputId": "04b9ac85-a998-4013-c3b6-2d1ea822ffce",
        "colab": {
          "base_uri": "https://localhost:8080/"
        }
      },
      "source": [
        "# Check that the tokenizer works appropriately\n",
        "num = 5\n",
        "print(sentences[num])\n",
        "\n",
        "# 각 단어에 해당하는 토큰의 배열로 sentence[5]를 바꿈\n",
        "encoded = tokenizer.encode(sentences[num])\n",
        "print(encoded)\n",
        "\n",
        "# Separately print out each subword, decoded\n",
        "for i in encoded:\n",
        "  print(tokenizer.decode([i]))"
      ],
      "execution_count": 5,
      "outputs": [
        {
          "output_type": "stream",
          "name": "stdout",
          "text": [
            "I have to jiggle the plug to get it to line up right to get decent volume.\n",
            "[4, 31, 6, 849, 162, 450, 12, 1, 600, 438, 775, 6, 175, 14, 6, 55, 213, 159, 474, 775, 6, 175, 614, 380, 295, 148, 72, 789]\n",
            "I \n",
            "have \n",
            "to \n",
            "j\n",
            "ig\n",
            "gl\n",
            "e \n",
            "the \n",
            "pl\n",
            "ug\n",
            " \n",
            "to \n",
            "get \n",
            "it \n",
            "to \n",
            "li\n",
            "ne \n",
            "up \n",
            "right\n",
            " \n",
            "to \n",
            "get \n",
            "dec\n",
            "ent \n",
            "vo\n",
            "lu\n",
            "me\n",
            ".\n"
          ]
        }
      ]
    },
    {
      "cell_type": "markdown",
      "metadata": {
        "id": "gYnbqctXGKcC"
      },
      "source": [
        "## Replace sentence data with encoded subwords\n",
        "\n",
        "Now, we'll re-create the dataset to be used for training by actually encoding each of the individual sentences. This is equivalent to `text_to_sequences` with the `Tokenizer` we used in earlier exercises."
      ]
    },
    {
      "cell_type": "code",
      "metadata": {
        "id": "rAmql34aGfeV"
      },
      "source": [
        "# .encode를 사용해 배열 만들기\n",
        "\n",
        "for i, sentence in enumerate(sentences):\n",
        "  sentences[i] = tokenizer.encode(sentence)"
      ],
      "execution_count": 6,
      "outputs": []
    },
    {
      "cell_type": "code",
      "metadata": {
        "id": "jNnee_csG5Iz",
        "outputId": "752016a0-f91a-438c-c3bf-ba5c677f493c",
        "colab": {
          "base_uri": "https://localhost:8080/"
        }
      },
      "source": [
        "# Check the sentences are appropriately replaced\n",
        "print(sentences[1])"
      ],
      "execution_count": 7,
      "outputs": [
        {
          "output_type": "stream",
          "name": "stdout",
          "text": [
            "[625, 677, 626, 274, 380, 633, 148, 844, 789]\n"
          ]
        }
      ]
    },
    {
      "cell_type": "markdown",
      "metadata": {
        "id": "zpIigjecHVkF"
      },
      "source": [
        "## Final pre-processing\n",
        "\n",
        "Before training, we still need to pad the sequences, as well as split into training and test sets."
      ]
    },
    {
      "cell_type": "code",
      "metadata": {
        "id": "INIFSAcEHool"
      },
      "source": [
        "import numpy as np\n",
        "\n",
        "max_length = 50\n",
        "trunc_type='post'\n",
        "padding_type='post'\n",
        "\n",
        "# Pad all sentences\n",
        "sentences_padded = pad_sequences(sentences, maxlen=max_length, \n",
        "                                 padding=padding_type, truncating=trunc_type)\n",
        "\n",
        "# Separate out the sentences and labels into training and test sets\n",
        "training_size = int(len(sentences) * 0.8)\n",
        "\n",
        "training_sentences = sentences_padded[0:training_size]\n",
        "testing_sentences = sentences_padded[training_size:]\n",
        "training_labels = labels[0:training_size]\n",
        "testing_labels = labels[training_size:]\n",
        "\n",
        "# Make labels into numpy arrays for use with the network later\n",
        "training_labels_final = np.array(training_labels)\n",
        "testing_labels_final = np.array(testing_labels)"
      ],
      "execution_count": 8,
      "outputs": []
    },
    {
      "cell_type": "markdown",
      "metadata": {
        "id": "QC9A-sTpPPiL"
      },
      "source": [
        "## Train a Sentiment Model"
      ]
    },
    {
      "cell_type": "code",
      "metadata": {
        "id": "eDKcL64IPcfy",
        "outputId": "26652503-3227-44a6-a1a9-0696be5b4760",
        "colab": {
          "base_uri": "https://localhost:8080/"
        }
      },
      "source": [
        "embedding_dim = 16\n",
        "model = tf.keras.Sequential([\n",
        "    tf.keras.layers.Embedding(vocab_size, embedding_dim, input_length=max_length),\n",
        "    tf.keras.layers.GlobalAveragePooling1D(),\n",
        "    tf.keras.layers.Dropout(0.2),\n",
        "    tf.keras.layers.Dense(6, activation='relu'),\n",
        "    tf.keras.layers.Dense(1, activation='sigmoid')\n",
        "])\n",
        "\n",
        "model.summary()"
      ],
      "execution_count": 10,
      "outputs": [
        {
          "output_type": "stream",
          "name": "stdout",
          "text": [
            "Model: \"sequential_1\"\n",
            "_________________________________________________________________\n",
            " Layer (type)                Output Shape              Param #   \n",
            "=================================================================\n",
            " embedding_1 (Embedding)     (None, 50, 16)            16000     \n",
            "                                                                 \n",
            " global_average_pooling1d_1   (None, 16)               0         \n",
            " (GlobalAveragePooling1D)                                        \n",
            "                                                                 \n",
            " dropout (Dropout)           (None, 16)                0         \n",
            "                                                                 \n",
            " dense_2 (Dense)             (None, 6)                 102       \n",
            "                                                                 \n",
            " dense_3 (Dense)             (None, 1)                 7         \n",
            "                                                                 \n",
            "=================================================================\n",
            "Total params: 16,109\n",
            "Trainable params: 16,109\n",
            "Non-trainable params: 0\n",
            "_________________________________________________________________\n"
          ]
        }
      ]
    },
    {
      "cell_type": "code",
      "metadata": {
        "id": "VqkMNtIeP3oz",
        "outputId": "359075c3-4af2-492c-9ceb-c0d80e03e367",
        "colab": {
          "base_uri": "https://localhost:8080/"
        }
      },
      "source": [
        "num_epochs = 30\n",
        "model.compile(loss='binary_crossentropy',optimizer='adam',metrics=['accuracy'])\n",
        "\n",
        "history = model.fit(training_sentences, training_labels_final, epochs=num_epochs, \n",
        "                    validation_data=(testing_sentences, testing_labels_final))"
      ],
      "execution_count": 11,
      "outputs": [
        {
          "output_type": "stream",
          "name": "stdout",
          "text": [
            "Epoch 1/30\n",
            "50/50 [==============================] - 4s 12ms/step - loss: 0.6920 - accuracy: 0.5242 - val_loss: 0.6964 - val_accuracy: 0.4110\n",
            "Epoch 2/30\n",
            "50/50 [==============================] - 0s 7ms/step - loss: 0.6887 - accuracy: 0.5223 - val_loss: 0.6984 - val_accuracy: 0.4135\n",
            "Epoch 3/30\n",
            "50/50 [==============================] - 0s 7ms/step - loss: 0.6838 - accuracy: 0.5380 - val_loss: 0.6980 - val_accuracy: 0.4311\n",
            "Epoch 4/30\n",
            "50/50 [==============================] - 0s 8ms/step - loss: 0.6763 - accuracy: 0.5593 - val_loss: 0.6946 - val_accuracy: 0.4612\n",
            "Epoch 5/30\n",
            "50/50 [==============================] - 0s 7ms/step - loss: 0.6638 - accuracy: 0.5807 - val_loss: 0.6830 - val_accuracy: 0.5038\n",
            "Epoch 6/30\n",
            "50/50 [==============================] - 0s 7ms/step - loss: 0.6462 - accuracy: 0.6635 - val_loss: 0.6817 - val_accuracy: 0.4987\n",
            "Epoch 7/30\n",
            "50/50 [==============================] - 0s 7ms/step - loss: 0.6201 - accuracy: 0.7006 - val_loss: 0.6557 - val_accuracy: 0.5815\n",
            "Epoch 8/30\n",
            "50/50 [==============================] - 0s 7ms/step - loss: 0.5882 - accuracy: 0.7759 - val_loss: 0.6446 - val_accuracy: 0.5890\n",
            "Epoch 9/30\n",
            "50/50 [==============================] - 0s 7ms/step - loss: 0.5498 - accuracy: 0.7797 - val_loss: 0.6250 - val_accuracy: 0.6266\n",
            "Epoch 10/30\n",
            "50/50 [==============================] - 0s 7ms/step - loss: 0.5127 - accuracy: 0.8092 - val_loss: 0.5817 - val_accuracy: 0.7218\n",
            "Epoch 11/30\n",
            "50/50 [==============================] - 0s 8ms/step - loss: 0.4789 - accuracy: 0.8424 - val_loss: 0.5671 - val_accuracy: 0.7143\n",
            "Epoch 12/30\n",
            "50/50 [==============================] - 0s 7ms/step - loss: 0.4441 - accuracy: 0.8487 - val_loss: 0.5427 - val_accuracy: 0.7444\n",
            "Epoch 13/30\n",
            "50/50 [==============================] - 0s 7ms/step - loss: 0.4121 - accuracy: 0.8650 - val_loss: 0.5191 - val_accuracy: 0.7569\n",
            "Epoch 14/30\n",
            "50/50 [==============================] - 0s 7ms/step - loss: 0.3880 - accuracy: 0.8726 - val_loss: 0.5302 - val_accuracy: 0.7469\n",
            "Epoch 15/30\n",
            "50/50 [==============================] - 0s 7ms/step - loss: 0.3591 - accuracy: 0.8776 - val_loss: 0.5214 - val_accuracy: 0.7444\n",
            "Epoch 16/30\n",
            "50/50 [==============================] - 0s 7ms/step - loss: 0.3388 - accuracy: 0.8763 - val_loss: 0.4956 - val_accuracy: 0.7544\n",
            "Epoch 17/30\n",
            "50/50 [==============================] - 0s 7ms/step - loss: 0.3206 - accuracy: 0.8920 - val_loss: 0.4964 - val_accuracy: 0.7569\n",
            "Epoch 18/30\n",
            "50/50 [==============================] - 0s 7ms/step - loss: 0.3030 - accuracy: 0.9040 - val_loss: 0.4965 - val_accuracy: 0.7544\n",
            "Epoch 19/30\n",
            "50/50 [==============================] - 0s 7ms/step - loss: 0.2864 - accuracy: 0.9033 - val_loss: 0.5142 - val_accuracy: 0.7544\n",
            "Epoch 20/30\n",
            "50/50 [==============================] - 0s 7ms/step - loss: 0.2711 - accuracy: 0.9102 - val_loss: 0.5067 - val_accuracy: 0.7544\n",
            "Epoch 21/30\n",
            "50/50 [==============================] - 0s 7ms/step - loss: 0.2575 - accuracy: 0.9215 - val_loss: 0.5132 - val_accuracy: 0.7569\n",
            "Epoch 22/30\n",
            "50/50 [==============================] - 0s 8ms/step - loss: 0.2468 - accuracy: 0.9240 - val_loss: 0.5012 - val_accuracy: 0.7619\n",
            "Epoch 23/30\n",
            "50/50 [==============================] - 0s 7ms/step - loss: 0.2388 - accuracy: 0.9234 - val_loss: 0.5333 - val_accuracy: 0.7519\n",
            "Epoch 24/30\n",
            "50/50 [==============================] - 0s 7ms/step - loss: 0.2270 - accuracy: 0.9284 - val_loss: 0.5362 - val_accuracy: 0.7569\n",
            "Epoch 25/30\n",
            "50/50 [==============================] - 0s 7ms/step - loss: 0.2191 - accuracy: 0.9322 - val_loss: 0.5367 - val_accuracy: 0.7519\n",
            "Epoch 26/30\n",
            "50/50 [==============================] - 0s 7ms/step - loss: 0.2112 - accuracy: 0.9366 - val_loss: 0.5406 - val_accuracy: 0.7519\n",
            "Epoch 27/30\n",
            "50/50 [==============================] - 0s 7ms/step - loss: 0.2037 - accuracy: 0.9353 - val_loss: 0.5674 - val_accuracy: 0.7544\n",
            "Epoch 28/30\n",
            "50/50 [==============================] - 0s 7ms/step - loss: 0.1951 - accuracy: 0.9397 - val_loss: 0.5842 - val_accuracy: 0.7569\n",
            "Epoch 29/30\n",
            "50/50 [==============================] - 0s 7ms/step - loss: 0.1906 - accuracy: 0.9448 - val_loss: 0.5830 - val_accuracy: 0.7569\n",
            "Epoch 30/30\n",
            "50/50 [==============================] - 0s 7ms/step - loss: 0.1804 - accuracy: 0.9517 - val_loss: 0.5612 - val_accuracy: 0.7594\n"
          ]
        }
      ]
    },
    {
      "cell_type": "markdown",
      "metadata": {
        "id": "sj18M42kQkCi"
      },
      "source": [
        "## Visualize the Training Graph\n",
        "\n",
        "We can visualize the training graph below again. Does there appear to be a difference in how validation accuracy and loss is trending compared to with full words?"
      ]
    },
    {
      "cell_type": "code",
      "metadata": {
        "id": "uy8KIMPIQlvH",
        "outputId": "88f77b04-846c-4f61-b9d8-50eeba2e8a14",
        "colab": {
          "base_uri": "https://localhost:8080/",
          "height": 541
        }
      },
      "source": [
        "import matplotlib.pyplot as plt\n",
        "\n",
        "\n",
        "def plot_graphs(history, string):\n",
        "  plt.plot(history.history[string])\n",
        "  plt.plot(history.history['val_'+string])\n",
        "  plt.xlabel(\"Epochs\")\n",
        "  plt.ylabel(string)\n",
        "  plt.legend([string, 'val_'+string])\n",
        "  plt.show()\n",
        "\n",
        "#subword를 사용할 때, 단어를 통으로 쓸 때에 비해서 val_loss가 더 이른 시점에서 다시 증가하기 시작함\n",
        "  \n",
        "plot_graphs(history, \"accuracy\")\n",
        "plot_graphs(history, \"loss\")"
      ],
      "execution_count": 12,
      "outputs": [
        {
          "output_type": "display_data",
          "data": {
            "image/png": "[encoded data removed]",
            "text/plain": [
              "<Figure size 432x288 with 1 Axes>"
            ]
          },
          "metadata": {
            "needs_background": "light"
          }
        },
        {
          "output_type": "display_data",
          "data": {
            "image/png": "[encoded data removed]",
            "text/plain": [
              "<Figure size 432x288 with 1 Axes>"
            ]
          },
          "metadata": {
            "needs_background": "light"
          }
        }
      ]
    },
    {
      "cell_type": "markdown",
      "metadata": {
        "id": "_m7QzouQQ1Rs"
      },
      "source": [
        "## Get files for visualizing the network\n",
        "\n",
        "Once again, you can visualize the sentiment related to all of the subwords using the below code and by heading to http://projector.tensorflow.org/ to upload and view the data.\n",
        "\n",
        "Note that the below code does have a few small changes to handle the different way text is encoded in our dataset compared to before with the built in `Tokenizer`.\n",
        "\n",
        "You may get an error like \"Number of tensors (999) do not match the number of lines in metadata (992).\" As long as you load the vectors first without error and wait a few seconds after this pops up, you will be able to click outside the file load menu and still view the visualization."
      ]
    },
    {
      "cell_type": "code",
      "metadata": {
        "id": "dezs4wE5RMQu",
        "outputId": "dc195494-6a57-4f50-bdde-6180deb10536",
        "colab": {
          "base_uri": "https://localhost:8080/"
        }
      },
      "source": [
        "# First get the weights of the embedding layer\n",
        "e = model.layers[0]\n",
        "weights = e.get_weights()[0]\n",
        "print(weights.shape) # shape: (vocab_size, embedding_dim)"
      ],
      "execution_count": 13,
      "outputs": [
        {
          "output_type": "stream",
          "name": "stdout",
          "text": [
            "(1000, 16)\n"
          ]
        }
      ]
    },
    {
      "cell_type": "code",
      "metadata": {
        "id": "LXKqy9Z1RSmt"
      },
      "source": [
        "import io\n",
        "\n",
        "# Write out the embedding vectors and metadata\n",
        "out_v = io.open('vecs.tsv', 'w', encoding='utf-8')\n",
        "out_m = io.open('meta.tsv', 'w', encoding='utf-8')\n",
        "for word_num in range(0, vocab_size - 1):\n",
        "  word = tokenizer.decode([word_num])\n",
        "  embeddings = weights[word_num]\n",
        "  out_m.write(word + \"\\n\")\n",
        "  out_v.write('\\t'.join([str(x) for x in embeddings]) + \"\\n\")\n",
        "out_v.close()\n",
        "out_m.close()"
      ],
      "execution_count": 14,
      "outputs": []
    },
    {
      "cell_type": "code",
      "metadata": {
        "id": "v04wBMybRoGx",
        "outputId": "e311d32a-c796-485b-bd92-ea53065bf08e",
        "colab": {
          "base_uri": "https://localhost:8080/",
          "height": 17
        }
      },
      "source": [
        "# Download the files\n",
        "try:\n",
        "  from google.colab import files\n",
        "except ImportError:\n",
        "  pass\n",
        "else:\n",
        "  files.download('vecs.tsv')\n",
        "  files.download('meta.tsv')"
      ],
      "execution_count": 15,
      "outputs": [
        {
          "output_type": "display_data",
          "data": {
            "application/javascript": [
              "\n",
              "    async function download(id, filename, size) {\n",
              "      if (!google.colab.kernel.accessAllowed) {\n",
              "        return;\n",
              "      }\n",
              "      const div = document.createElement('div');\n",
              "      const label = document.createElement('label');\n",
              "      label.textContent = `Downloading \"${filename}\": `;\n",
              "      div.appendChild(label);\n",
              "      const progress = document.createElement('progress');\n",
              "      progress.max = size;\n",
              "      div.appendChild(progress);\n",
              "      document.body.appendChild(div);\n",
              "\n",
              "      const buffers = [];\n",
              "      let downloaded = 0;\n",
              "\n",
              "      const channel = await google.colab.kernel.comms.open(id);\n",
              "      // Send a message to notify the kernel that we're ready.\n",
              "      channel.send({})\n",
              "\n",
              "      for await (const message of channel.messages) {\n",
              "        // Send a message to notify the kernel that we're ready.\n",
              "        channel.send({})\n",
              "        if (message.buffers) {\n",
              "          for (const buffer of message.buffers) {\n",
              "            buffers.push(buffer);\n",
              "            downloaded += buffer.byteLength;\n",
              "            progress.value = downloaded;\n",
              "          }\n",
              "        }\n",
              "      }\n",
              "      const blob = new Blob(buffers, {type: 'application/binary'});\n",
              "      const a = document.createElement('a');\n",
              "      a.href = window.URL.createObjectURL(blob);\n",
              "      a.download = filename;\n",
              "      div.appendChild(a);\n",
              "      a.click();\n",
              "      div.remove();\n",
              "    }\n",
              "  "
            ],
            "text/plain": [
              "<IPython.core.display.Javascript object>"
            ]
          },
          "metadata": {}
        },
        {
          "output_type": "display_data",
          "data": {
            "application/javascript": [
              "download(\"download_b14bd23b-d3d0-4a17-9652-8d43337d83f4\", \"vecs.tsv\", 188011)"
            ],
            "text/plain": [
              "<IPython.core.display.Javascript object>"
            ]
          },
          "metadata": {}
        },
        {
          "output_type": "display_data",
          "data": {
            "application/javascript": [
              "\n",
              "    async function download(id, filename, size) {\n",
              "      if (!google.colab.kernel.accessAllowed) {\n",
              "        return;\n",
              "      }\n",
              "      const div = document.createElement('div');\n",
              "      const label = document.createElement('label');\n",
              "      label.textContent = `Downloading \"${filename}\": `;\n",
              "      div.appendChild(label);\n",
              "      const progress = document.createElement('progress');\n",
              "      progress.max = size;\n",
              "      div.appendChild(progress);\n",
              "      document.body.appendChild(div);\n",
              "\n",
              "      const buffers = [];\n",
              "      let downloaded = 0;\n",
              "\n",
              "      const channel = await google.colab.kernel.comms.open(id);\n",
              "      // Send a message to notify the kernel that we're ready.\n",
              "      channel.send({})\n",
              "\n",
              "      for await (const message of channel.messages) {\n",
              "        // Send a message to notify the kernel that we're ready.\n",
              "        channel.send({})\n",
              "        if (message.buffers) {\n",
              "          for (const buffer of message.buffers) {\n",
              "            buffers.push(buffer);\n",
              "            downloaded += buffer.byteLength;\n",
              "            progress.value = downloaded;\n",
              "          }\n",
              "        }\n",
              "      }\n",
              "      const blob = new Blob(buffers, {type: 'application/binary'});\n",
              "      const a = document.createElement('a');\n",
              "      a.href = window.URL.createObjectURL(blob);\n",
              "      a.download = filename;\n",
              "      div.appendChild(a);\n",
              "      a.click();\n",
              "      div.remove();\n",
              "    }\n",
              "  "
            ],
            "text/plain": [
              "<IPython.core.display.Javascript object>"
            ]
          },
          "metadata": {}
        },
        {
          "output_type": "display_data",
          "data": {
            "application/javascript": [
              "download(\"download_4902acfd-334d-4898-8e86-74bef9d2d599\", \"meta.tsv\", 3901)"
            ],
            "text/plain": [
              "<IPython.core.display.Javascript object>"
            ]
          },
          "metadata": {}
        }
      ]
    }
  ]
}