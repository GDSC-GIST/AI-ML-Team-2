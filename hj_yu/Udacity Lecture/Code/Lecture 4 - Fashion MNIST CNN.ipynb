{
 "cells": [
  {
   "cell_type": "code",
   "execution_count": 2,
   "id": "c81793e9",
   "metadata": {},
   "outputs": [],
   "source": [
    "#Lecture 4 - CNN\n",
    "\n",
    "import tensorflow as tf"
   ]
  },
  {
   "cell_type": "code",
   "execution_count": 3,
   "id": "1466c0f7",
   "metadata": {},
   "outputs": [],
   "source": [
    "import tensorflow_datasets as tfds\n",
    "tfds.disable_progress_bar()"
   ]
  },
  {
   "cell_type": "code",
   "execution_count": 4,
   "id": "9593dc72",
   "metadata": {},
   "outputs": [],
   "source": [
    "import math\n",
    "import numpy as np\n",
    "import matplotlib.pyplot as plt"
   ]
  },
  {
   "cell_type": "code",
   "execution_count": 5,
   "id": "2d64784e",
   "metadata": {},
   "outputs": [],
   "source": [
    "import logging"
   ]
  },
  {
   "cell_type": "code",
   "execution_count": 6,
   "id": "9d42e03b",
   "metadata": {},
   "outputs": [],
   "source": [
    "logger = tf.get_logger()\n",
    "logger.setLevel(logging.ERROR)"
   ]
  },
  {
   "cell_type": "code",
   "execution_count": 7,
   "id": "20f4e56b",
   "metadata": {},
   "outputs": [
    {
     "name": "stderr",
     "output_type": "stream",
     "text": [
      "WARNING:absl:Warning: Setting shuffle_files=True because split=TRAIN and shuffle_files=None. This behavior will be deprecated on 2019-08-06, at which point shuffle_files=False will be the default for all splits.\n"
     ]
    },
    {
     "name": "stdout",
     "output_type": "stream",
     "text": [
      "WARNING: AutoGraph could not transform <bound method TopLevelFeature.decode_example of FeaturesDict({\n",
      "    'image': Image(shape=(28, 28, 1), dtype=tf.uint8),\n",
      "    'label': ClassLabel(shape=(), dtype=tf.int64, num_classes=10),\n",
      "})> and will run it as-is.\n",
      "Please report this to the TensorFlow team. When filing the bug, set the verbosity to 10 (on Linux, `export AUTOGRAPH_VERBOSITY=10`) and attach the full output.\n",
      "Cause: No module named 'tensorflow_core.estimator'\n",
      "WARNING: AutoGraph could not transform <bound method TopLevelFeature.decode_example of FeaturesDict({\n",
      "    'image': Image(shape=(28, 28, 1), dtype=tf.uint8),\n",
      "    'label': ClassLabel(shape=(), dtype=tf.int64, num_classes=10),\n",
      "})> and will run it as-is.\n",
      "Please report this to the TensorFlow team. When filing the bug, set the verbosity to 10 (on Linux, `export AUTOGRAPH_VERBOSITY=10`) and attach the full output.\n",
      "Cause: No module named 'tensorflow_core.estimator'\n"
     ]
    }
   ],
   "source": [
    "#Tensorflow dataset에서 Fashion mnist를 가져옴! 데이터 접근은 dataset으로,\n",
    "#데이터의 개수 등 정보는 metadata로 접근 가능함\n",
    "dataset, metadata = tfds.load('fashion_mnist', as_supervised=True, with_info=True)"
   ]
  },
  {
   "cell_type": "code",
   "execution_count": 8,
   "id": "941f4d99",
   "metadata": {},
   "outputs": [],
   "source": [
    "#train_dataset, test_dataset이라는 배열 모음을 dataset에서 떼와서 따로 정의함\n",
    "train_dataset, test_dataset = dataset['train'], dataset['test']"
   ]
  },
  {
   "cell_type": "code",
   "execution_count": 9,
   "id": "a3c9718e",
   "metadata": {},
   "outputs": [],
   "source": [
    "#output 번호만 0~9로 저장되어 있고, 이름은 저장되어 있지 않으므로 이렇게 따로 정의\n",
    "class_names = ['T-shirt/top', 'Trouser', 'Pullover', 'Dress', 'Coat',\n",
    "               'Sandal',      'Shirt',   'Sneaker',  'Bag',   'Ankle boot']"
   ]
  },
  {
   "cell_type": "code",
   "execution_count": 10,
   "id": "c104480c",
   "metadata": {},
   "outputs": [
    {
     "name": "stdout",
     "output_type": "stream",
     "text": [
      "Number of training examples : 60000\n",
      "Number of test examples : 10000\n"
     ]
    }
   ],
   "source": [
    "#훈련 데이터 개수, 테스트 데이터 개수\n",
    "num_train_examples = metadata.splits['train'].num_examples\n",
    "num_test_examples = metadata.splits['test'].num_examples\n",
    "print(\"Number of training examples : {}\".format(num_train_examples))\n",
    "print(\"Number of test examples : {}\".format(num_test_examples))"
   ]
  },
  {
   "cell_type": "code",
   "execution_count": 11,
   "id": "38c5870f",
   "metadata": {},
   "outputs": [
    {
     "name": "stdout",
     "output_type": "stream",
     "text": [
      "WARNING: AutoGraph could not transform <function normalize at 0x000001928BD6B708> and will run it as-is.\n",
      "Please report this to the TensorFlow team. When filing the bug, set the verbosity to 10 (on Linux, `export AUTOGRAPH_VERBOSITY=10`) and attach the full output.\n",
      "Cause: No module named 'tensorflow_core.estimator'\n"
     ]
    }
   ],
   "source": [
    "#데이터 normalize -> 각 28x28픽셀은 0~255 사이 값인데, 이걸 0~1 값으로 바꿈\n",
    "\n",
    "def normalize(images, labels):\n",
    "    images = tf.cast(images, tf.float32)\n",
    "    images /= 255\n",
    "    return images, labels\n",
    "\n",
    "#map = train_dataset 내부의 모든 아이템에 normalize 함수를 적용시키는 역할!\n",
    "train_dataset = train_dataset.map(normalize)\n",
    "test_dataset = test_dataset.map(normalize)"
   ]
  },
  {
   "cell_type": "code",
   "execution_count": 12,
   "id": "5dcba1dd",
   "metadata": {},
   "outputs": [],
   "source": [
    "train_dataset = train_dataset.cache()\n",
    "test_dataset = test_dataset.cache()"
   ]
  },
  {
   "cell_type": "code",
   "execution_count": null,
   "id": "2a22e754",
   "metadata": {},
   "outputs": [],
   "source": [
    "#모델 만들기 - layer 제작\n",
    "\n",
    "model = tf.keras.Sequential([\n",
    "    #첫 번째 = Conv2D 레이어: (3x3)커널으로 Convolution 진행, padding으로 원본 크기와\n",
    "    #같은 크기의 이미지를 반환하고, 총 32번 진행함. *relu사용\n",
    "    tf.keras.layers.Conv2D(32, (3,3), padding='same', activation=tf.nn.relu,\n",
    "                          input_shape=(28, 28, 1)),\n",
    "    #MaxPooling 레이어: (2x2) 그리드 내부 최댓값 반환, stride=2이므로 원본 크기에서\n",
    "    #절반으로 준 크기의 이미지를 반환함\n",
    "    tf.keras.layers.MaxPooling2D((2,2), strides=2),\n",
    "    tf.keras.layers.Conv2D(64, (3,3), padding='same', activation=tf.nn.relu),\n",
    "    tf.keras.layers.MaxPooling2D((2,2), strides=2),\n",
    "    #Convolution 거친 이미지 픽셀 2차원 배열을 1차원 배열로 바꿈\n",
    "    tf.keras.layers.Flatten(),\n",
    "    #128개 unit의 Dense layer가 input 받음\n",
    "    tf.keras.layers.Dense(128, activation=tf.nn.relu),\n",
    "    #10개 unit(최종 라벨의 개수)의 output layer: softmax로 확률 반환\n",
    "    tf.keras.layers.Dense(10, activation=tf.nn.softmax)\n",
    "    \n",
    "])"
   ]
  },
  {
   "cell_type": "code",
   "execution_count": null,
   "id": "27e6a746",
   "metadata": {},
   "outputs": [],
   "source": [
    "#모델 compile\n",
    "#optimizer = unit 내부 weight, bias를 변환시키는 알고리즘\n",
    "#loss function = 예측한 값이 얼마나 실제와 동떨어졌는지 측정함\n",
    "#metrics = 훈련과 테스트를 모니터하기 위함\n",
    "\n",
    "model.compile(optimizer = 'adam',\n",
    "             loss = tf.keras.losses.SparseCategoricalCrossentropy(),\n",
    "             metrics=['accuracy'])"
   ]
  },
  {
   "cell_type": "code",
   "execution_count": null,
   "id": "a3dbe545",
   "metadata": {},
   "outputs": [],
   "source": [
    "#모델 Train\n",
    "#1. train dataset에 미리 설정하기 - .repeat().shuffle().batch()\n",
    "#batch개수(32개)가 끝난 이후에 optimizer가 weight, bias를 바꾸고, 훈련을 반복할 때마다\n",
    "#데이터 순서를 랜덤으로 배정하도록 만듦\n",
    "\n",
    "BATCH_SIZE = 32\n",
    "train_dataset = train_dataset.cache().repeat().shuffle(num_train_examples).batch(BATCH_SIZE)\n",
    "test_dataset = test_dataset.cache().batch(BATCH_SIZE)"
   ]
  },
  {
   "cell_type": "code",
   "execution_count": null,
   "id": "5402ae0b",
   "metadata": {},
   "outputs": [],
   "source": [
    "#2. Fit을 이용해 실제 훈련시키기!\n",
    "#epoch = 반복 횟수\n",
    "\n",
    "model.fit(train_dataset, epochs=10, steps_per_epoch=math.ceil(num_train_examples/BATCH_SIZE))\n"
   ]
  },
  {
   "cell_type": "code",
   "execution_count": null,
   "id": "2008b31e",
   "metadata": {},
   "outputs": [],
   "source": [
    "#모델의 정확도 측정하기\n",
    "\n",
    "test_loss, test_accuracy = model.evaluate(test_dataset, steps=math.ceil(num_test_examples/32))\n",
    "\n",
    "print('Accuracy on test dataset:', test_accuracy)"
   ]
  },
  {
   "cell_type": "code",
   "execution_count": null,
   "id": "7da0db01",
   "metadata": {},
   "outputs": [],
   "source": [
    "#모델을 실제로 사용하기\n",
    "# test_dataset에 있는 각 이미지에 대해, 0~9까지의 label이 될 확률을 각각 계산함 \n",
    "\n",
    "for test_images, test_labels in test_dataset.take(1):\n",
    "  test_images = test_images.numpy()\n",
    "  test_labels = test_labels.numpy()\n",
    "  predictions = model.predict(test_images)\n",
    "\n",
    "#predictions라는 배열의 차원을 보여줌\n",
    "\n",
    "predictions.shape"
   ]
  },
  {
   "cell_type": "code",
   "execution_count": null,
   "id": "4eb8e28f",
   "metadata": {},
   "outputs": [],
   "source": [
    "#첫 번째 이미지의 prediction 보기\n",
    "#여기서, softmax썼으니깐 10개 label이 맞을 확률을 10개 숫자로 갖는 배열로 반환함\n",
    "\n",
    "predictions[0]"
   ]
  },
  {
   "cell_type": "code",
   "execution_count": null,
   "id": "dcb62f36",
   "metadata": {},
   "outputs": [],
   "source": [
    "#첫 번쨰 이미지의 prediction 배열 중 가장 높은 값을 갖는 아이템의 인덱스 반환\n",
    "\n",
    "np.argmax(predictions[0])\n",
    "\n",
    "#실제 테스트 세트의 첫 번째 이미지의 라벨값 반환\n",
    "\n",
    "test_labels[0]\n"
   ]
  },
  {
   "cell_type": "code",
   "execution_count": null,
   "id": "62fffec1",
   "metadata": {},
   "outputs": [],
   "source": [
    "#한 개의 이미지에 대한 예측하기\n",
    "\n",
    "img = test_images[0]\n",
    "\n",
    "#keras는 batch가 있어야지 예측이 가능하므로, 이미지 한 개여도 batch를 추가해야 함\n",
    "\n",
    "img = np.array([img])"
   ]
  },
  {
   "cell_type": "code",
   "execution_count": null,
   "id": "db0209e5",
   "metadata": {},
   "outputs": [],
   "source": [
    "#한 개의 이미지 예측 및 10개 아이템 가진 배열(확률값) 출력하기\n",
    "\n",
    "predictions_single = model.predict(img)\n",
    "\n",
    "printf(predictions_single)"
   ]
  }
 ],
 "metadata": {
  "kernelspec": {
   "display_name": "Python 3 (ipykernel)",
   "language": "python",
   "name": "python3"
  },
  "language_info": {
   "codemirror_mode": {
    "name": "ipython",
    "version": 3
   },
   "file_extension": ".py",
   "mimetype": "text/x-python",
   "name": "python",
   "nbconvert_exporter": "python",
   "pygments_lexer": "ipython3",
   "version": "3.7.9"
  }
 },
 "nbformat": 4,
 "nbformat_minor": 5
}
