{
  "nbformat": 4,
  "nbformat_minor": 0,
  "metadata": {
    "accelerator": "GPU",
    "colab": {
      "name": "l10c04_nlp_optimizing_the_text_generation_model.ipynb",
      "provenance": [],
      "collapsed_sections": []
    },
    "kernelspec": {
      "display_name": "Python 3",
      "name": "python3"
    }
  },
  "cells": [
    {
      "cell_type": "markdown",
      "metadata": {
        "id": "punL79CN7Ox6"
      },
      "source": [
        "##### Copyright 2020 The TensorFlow Authors."
      ]
    },
    {
      "cell_type": "code",
      "metadata": {
        "cellView": "form",
        "id": "_ckMIh7O7s6D"
      },
      "source": [
        "#@title Licensed under the Apache License, Version 2.0 (the \"License\");\n",
        "# you may not use this file except in compliance with the License.\n",
        "# You may obtain a copy of the License at\n",
        "#\n",
        "# https://www.apache.org/licenses/LICENSE-2.0\n",
        "#\n",
        "# Unless required by applicable law or agreed to in writing, software\n",
        "# distributed under the License is distributed on an \"AS IS\" BASIS,\n",
        "# WITHOUT WARRANTIES OR CONDITIONS OF ANY KIND, either express or implied.\n",
        "# See the License for the specific language governing permissions and\n",
        "# limitations under the License."
      ],
      "execution_count": null,
      "outputs": []
    },
    {
      "cell_type": "markdown",
      "metadata": {
        "id": "Ph5eir3Pf-3z"
      },
      "source": [
        "# Optimizing the Text Generation Model"
      ]
    },
    {
      "cell_type": "markdown",
      "metadata": {
        "id": "S5Uhzt6vVIB2"
      },
      "source": [
        "<table class=\"tfo-notebook-buttons\" align=\"left\">\n",
        "  <td>\n",
        "    <a target=\"_blank\" href=\"https://colab.research.google.com/github/tensorflow/examples/blob/master/courses/udacity_intro_to_tensorflow_for_deep_learning/l10c04_nlp_optimizing_the_text_generation_model.ipynb\"><img src=\"https://www.tensorflow.org/images/colab_logo_32px.png\" />Run in Google Colab</a>\n",
        "  </td>\n",
        "  <td>\n",
        "    <a target=\"_blank\" href=\"https://github.com/tensorflow/examples/blob/master/courses/udacity_intro_to_tensorflow_for_deep_learning/l10c04_nlp_optimizing_the_text_generation_model.ipynb\"><img src=\"https://www.tensorflow.org/images/GitHub-Mark-32px.png\" />View source on GitHub</a>\n",
        "  </td>\n",
        "</table>"
      ]
    },
    {
      "cell_type": "markdown",
      "metadata": {
        "id": "dCxhW3mtLmfb"
      },
      "source": [
        "You've already done some amazing work with generating new songs, but so far we've seen some issues with repetition and a fair amount of incoherence. By using more data and further tweaking the model, you'll be able to get improved results. We'll once again use the [Kaggle Song Lyrics Dataset](https://www.kaggle.com/mousehead/songlyrics) here."
      ]
    },
    {
      "cell_type": "markdown",
      "metadata": {
        "id": "4aHK2CYygXom"
      },
      "source": [
        "## Import TensorFlow and related functions"
      ]
    },
    {
      "cell_type": "code",
      "metadata": {
        "id": "2LmLTREBf5ng"
      },
      "source": [
        "import tensorflow as tf\n",
        "\n",
        "from tensorflow.keras.preprocessing.text import Tokenizer\n",
        "from tensorflow.keras.preprocessing.sequence import pad_sequences\n",
        "\n",
        "# Other imports for processing data\n",
        "import string\n",
        "import numpy as np\n",
        "import pandas as pd"
      ],
      "execution_count": 1,
      "outputs": []
    },
    {
      "cell_type": "markdown",
      "metadata": {
        "id": "GmLTO_dpgge9"
      },
      "source": [
        "## Get the Dataset\n",
        "\n",
        "As noted above, we'll utilize the [Song Lyrics dataset](https://www.kaggle.com/mousehead/songlyrics) on Kaggle again."
      ]
    },
    {
      "cell_type": "code",
      "metadata": {
        "id": "4Bf5FVHfganK",
        "outputId": "2334e260-b137-4644-a21f-b18f51763baf",
        "colab": {
          "base_uri": "https://localhost:8080/"
        }
      },
      "source": [
        "!wget --no-check-certificate \\\n",
        "    https://drive.google.com/uc?id=1LiJFZd41ofrWoBtW-pMYsfz1w8Ny0Bj8 \\\n",
        "    -O /tmp/songdata.csv"
      ],
      "execution_count": 2,
      "outputs": [
        {
          "output_type": "stream",
          "name": "stdout",
          "text": [
            "--2021-11-20 12:26:38--  https://drive.google.com/uc?id=1LiJFZd41ofrWoBtW-pMYsfz1w8Ny0Bj8\n",
            "Resolving drive.google.com (drive.google.com)... 209.85.147.101, 209.85.147.102, 209.85.147.100, ...\n",
            "Connecting to drive.google.com (drive.google.com)|209.85.147.101|:443... connected.\n",
            "HTTP request sent, awaiting response... 302 Moved Temporarily\n",
            "Location: https://doc-04-ak-docs.googleusercontent.com/docs/securesc/ha0ro937gcuc7l7deffksulhg5h7mbp1/fols79dplbjaslbektql6hfqqi2ohmn6/1637411175000/11118900490791463723/*/1LiJFZd41ofrWoBtW-pMYsfz1w8Ny0Bj8 [following]\n",
            "Warning: wildcards not supported in HTTP.\n",
            "--2021-11-20 12:26:40--  https://doc-04-ak-docs.googleusercontent.com/docs/securesc/ha0ro937gcuc7l7deffksulhg5h7mbp1/fols79dplbjaslbektql6hfqqi2ohmn6/1637411175000/11118900490791463723/*/1LiJFZd41ofrWoBtW-pMYsfz1w8Ny0Bj8\n",
            "Resolving doc-04-ak-docs.googleusercontent.com (doc-04-ak-docs.googleusercontent.com)... 108.177.121.132, 2607:f8b0:4001:c19::84\n",
            "Connecting to doc-04-ak-docs.googleusercontent.com (doc-04-ak-docs.googleusercontent.com)|108.177.121.132|:443... connected.\n",
            "HTTP request sent, awaiting response... 200 OK\n",
            "Length: 72436445 (69M) [text/csv]\n",
            "Saving to: ‘/tmp/songdata.csv’\n",
            "\n",
            "/tmp/songdata.csv   100%[===================>]  69.08M   193MB/s    in 0.4s    \n",
            "\n",
            "2021-11-20 12:26:41 (193 MB/s) - ‘/tmp/songdata.csv’ saved [72436445/72436445]\n",
            "\n"
          ]
        }
      ]
    },
    {
      "cell_type": "markdown",
      "metadata": {
        "id": "Jz9x-7dWihxx"
      },
      "source": [
        "## 250 Songs\n",
        "\n",
        "Now we've seen a model trained on just a small sample of songs, and how this often leads to repetition as you get further along in trying to generate new text. Let's switch to using the 250 songs instead, and see if our output improves. This will actually be nearly 10K lines of lyrics, which should be sufficient.\n",
        "\n",
        "Note that we won't use the full dataset here as it will take up quite a bit of RAM and processing time, but you're welcome to try doing so on your own later. If interested, you'll likely want to use only some of the more common words for the Tokenizer, which will help shrink processing time and memory needed (or else you'd have an output array hundreds of thousands of words long)."
      ]
    },
    {
      "cell_type": "markdown",
      "metadata": {
        "id": "nWbMN_19jfRT"
      },
      "source": [
        "### Preprocessing"
      ]
    },
    {
      "cell_type": "code",
      "metadata": {
        "id": "LRmPPJegovBe"
      },
      "source": [
        "def tokenize_corpus(corpus, num_words=-1):\n",
        "  # Fit a Tokenizer on the corpus\n",
        "  if num_words > -1:\n",
        "    tokenizer = Tokenizer(num_words=num_words)\n",
        "  else:\n",
        "    tokenizer = Tokenizer()\n",
        "  tokenizer.fit_on_texts(corpus)\n",
        "  return tokenizer\n",
        "\n",
        "def create_lyrics_corpus(dataset, field):\n",
        "  # Remove all other punctuation\n",
        "  dataset[field] = dataset[field].str.replace('[{}]'.format(string.punctuation), '')\n",
        "  # Make it lowercase\n",
        "  dataset[field] = dataset[field].str.lower()\n",
        "  # Make it one long string to split by line\n",
        "  lyrics = dataset[field].str.cat()\n",
        "  corpus = lyrics.split('\\n')\n",
        "  # Remove any trailing whitespace\n",
        "  for l in range(len(corpus)):\n",
        "    corpus[l] = corpus[l].rstrip()\n",
        "  # Remove any empty lines\n",
        "  corpus = [l for l in corpus if l != '']\n",
        "\n",
        "  return corpus"
      ],
      "execution_count": 3,
      "outputs": []
    },
    {
      "cell_type": "code",
      "metadata": {
        "id": "kIGedF3XjHj4",
        "outputId": "ef3799b8-c27c-4341-85ed-726c681ecc5a",
        "colab": {
          "base_uri": "https://localhost:8080/"
        }
      },
      "source": [
        "def tokenize_corpus(corpus, num_words=-1):\n",
        "  # Fit a Tokenizer on the corpus\n",
        "  if num_words > -1:\n",
        "    tokenizer = Tokenizer(num_words=num_words)\n",
        "  else:\n",
        "    tokenizer = Tokenizer()\n",
        "  tokenizer.fit_on_texts(corpus)\n",
        "  return tokenizer\n",
        "\n",
        "# Read the dataset from csv - this time with 250 songs\n",
        "dataset = pd.read_csv('/tmp/songdata.csv', dtype=str)[:250]\n",
        "# Create the corpus using the 'text' column containing lyrics\n",
        "corpus = create_lyrics_corpus(dataset, 'text')\n",
        "# Tokenize the corpus\n",
        "tokenizer = tokenize_corpus(corpus, num_words=2000)\n",
        "total_words = tokenizer.num_words\n",
        "\n",
        "# There should be a lot more words now\n",
        "print(total_words)"
      ],
      "execution_count": 4,
      "outputs": [
        {
          "output_type": "stream",
          "name": "stdout",
          "text": [
            "2000\n"
          ]
        },
        {
          "output_type": "stream",
          "name": "stderr",
          "text": [
            "/usr/local/lib/python3.7/dist-packages/ipykernel_launcher.py:12: SettingWithCopyWarning: \n",
            "A value is trying to be set on a copy of a slice from a DataFrame.\n",
            "Try using .loc[row_indexer,col_indexer] = value instead\n",
            "\n",
            "See the caveats in the documentation: https://pandas.pydata.org/pandas-docs/stable/user_guide/indexing.html#returning-a-view-versus-a-copy\n",
            "  if sys.path[0] == '':\n"
          ]
        }
      ]
    },
    {
      "cell_type": "markdown",
      "metadata": {
        "id": "quoDmw_FkNBA"
      },
      "source": [
        "### Create Sequences and Labels"
      ]
    },
    {
      "cell_type": "code",
      "metadata": {
        "id": "kkLAf3HmkPSo"
      },
      "source": [
        "sequences = []\n",
        "for line in corpus:\n",
        "\ttoken_list = tokenizer.texts_to_sequences([line])[0]\n",
        "\tfor i in range(1, len(token_list)):\n",
        "\t\tn_gram_sequence = token_list[:i+1]\n",
        "\t\tsequences.append(n_gram_sequence)\n",
        "\n",
        "# Pad sequences for equal input length \n",
        "max_sequence_len = max([len(seq) for seq in sequences])\n",
        "sequences = np.array(pad_sequences(sequences, maxlen=max_sequence_len, padding='pre'))\n",
        "\n",
        "# Split sequences between the \"input\" sequence and \"output\" predicted word\n",
        "input_sequences, labels = sequences[:,:-1], sequences[:,-1]\n",
        "# One-hot encode the labels\n",
        "one_hot_labels = tf.keras.utils.to_categorical(labels, num_classes=total_words)"
      ],
      "execution_count": 5,
      "outputs": []
    },
    {
      "cell_type": "markdown",
      "metadata": {
        "id": "cECbqT-blMk-"
      },
      "source": [
        "### Train a (Better) Text Generation Model\n",
        "\n",
        "With more data, we'll cut off after 100 epochs to avoid keeping you here all day. You'll also want to change your runtime type to GPU if you haven't already (you'll need to re-run the above cells if you change runtimes)."
      ]
    },
    {
      "cell_type": "code",
      "metadata": {
        "id": "7nHOp6uWlP_P",
        "outputId": "e53ac211-636e-423f-ce1a-066184634967",
        "colab": {
          "base_uri": "https://localhost:8080/"
        }
      },
      "source": [
        "from tensorflow.keras.models import Sequential\n",
        "from tensorflow.keras.layers import Embedding, LSTM, Dense, Bidirectional\n",
        "\n",
        "model = Sequential()\n",
        "model.add(Embedding(total_words, 64, input_length=max_sequence_len-1))\n",
        "model.add(Bidirectional(LSTM(20)))\n",
        "model.add(Dense(total_words, activation='softmax'))\n",
        "model.compile(loss='categorical_crossentropy', optimizer='adam', metrics=['accuracy'])\n",
        "history = model.fit(input_sequences, one_hot_labels, epochs=100, verbose=1)"
      ],
      "execution_count": 6,
      "outputs": [
        {
          "output_type": "stream",
          "name": "stdout",
          "text": [
            "Epoch 1/100\n",
            "1480/1480 [==============================] - 30s 14ms/step - loss: 5.9820 - accuracy: 0.0460\n",
            "Epoch 2/100\n",
            "1480/1480 [==============================] - 21s 14ms/step - loss: 5.6797 - accuracy: 0.0504\n",
            "Epoch 3/100\n",
            "1480/1480 [==============================] - 21s 14ms/step - loss: 5.4814 - accuracy: 0.0646\n",
            "Epoch 4/100\n",
            "1480/1480 [==============================] - 21s 14ms/step - loss: 5.3355 - accuracy: 0.0877\n",
            "Epoch 5/100\n",
            "1480/1480 [==============================] - 21s 14ms/step - loss: 5.2030 - accuracy: 0.1045\n",
            "Epoch 6/100\n",
            "1480/1480 [==============================] - 21s 14ms/step - loss: 5.0245 - accuracy: 0.1235\n",
            "Epoch 7/100\n",
            "1480/1480 [==============================] - 21s 14ms/step - loss: 4.8382 - accuracy: 0.1384\n",
            "Epoch 8/100\n",
            "1480/1480 [==============================] - 21s 14ms/step - loss: 4.6695 - accuracy: 0.1597\n",
            "Epoch 9/100\n",
            "1480/1480 [==============================] - 21s 14ms/step - loss: 4.5278 - accuracy: 0.1739\n",
            "Epoch 10/100\n",
            "1480/1480 [==============================] - 21s 14ms/step - loss: 4.4087 - accuracy: 0.1887\n",
            "Epoch 11/100\n",
            "1480/1480 [==============================] - 21s 14ms/step - loss: 4.3003 - accuracy: 0.2003\n",
            "Epoch 12/100\n",
            "1480/1480 [==============================] - 21s 14ms/step - loss: 4.2034 - accuracy: 0.2146\n",
            "Epoch 13/100\n",
            "1480/1480 [==============================] - 21s 14ms/step - loss: 4.1189 - accuracy: 0.2227\n",
            "Epoch 14/100\n",
            "1480/1480 [==============================] - 21s 14ms/step - loss: 4.0358 - accuracy: 0.2349\n",
            "Epoch 15/100\n",
            "1480/1480 [==============================] - 21s 14ms/step - loss: 3.9664 - accuracy: 0.2443\n",
            "Epoch 16/100\n",
            "1480/1480 [==============================] - 21s 14ms/step - loss: 3.8967 - accuracy: 0.2551\n",
            "Epoch 17/100\n",
            "1480/1480 [==============================] - 21s 14ms/step - loss: 3.8351 - accuracy: 0.2632\n",
            "Epoch 18/100\n",
            "1480/1480 [==============================] - 21s 14ms/step - loss: 3.7755 - accuracy: 0.2708\n",
            "Epoch 19/100\n",
            "1480/1480 [==============================] - 21s 14ms/step - loss: 3.7201 - accuracy: 0.2778\n",
            "Epoch 20/100\n",
            "1480/1480 [==============================] - 21s 14ms/step - loss: 3.6717 - accuracy: 0.2851\n",
            "Epoch 21/100\n",
            "1480/1480 [==============================] - 21s 14ms/step - loss: 3.6228 - accuracy: 0.2899\n",
            "Epoch 22/100\n",
            "1480/1480 [==============================] - 21s 14ms/step - loss: 3.5792 - accuracy: 0.2961\n",
            "Epoch 23/100\n",
            "1480/1480 [==============================] - 21s 14ms/step - loss: 3.5380 - accuracy: 0.3033\n",
            "Epoch 24/100\n",
            "1480/1480 [==============================] - 21s 14ms/step - loss: 3.4948 - accuracy: 0.3082\n",
            "Epoch 25/100\n",
            "1480/1480 [==============================] - 21s 14ms/step - loss: 3.4613 - accuracy: 0.3125\n",
            "Epoch 26/100\n",
            "1480/1480 [==============================] - 21s 14ms/step - loss: 3.4252 - accuracy: 0.3181\n",
            "Epoch 27/100\n",
            "1480/1480 [==============================] - 21s 14ms/step - loss: 3.3886 - accuracy: 0.3229\n",
            "Epoch 28/100\n",
            "1480/1480 [==============================] - 21s 14ms/step - loss: 3.3547 - accuracy: 0.3274\n",
            "Epoch 29/100\n",
            "1480/1480 [==============================] - 21s 14ms/step - loss: 3.3241 - accuracy: 0.3310\n",
            "Epoch 30/100\n",
            "1480/1480 [==============================] - 21s 14ms/step - loss: 3.2944 - accuracy: 0.3376\n",
            "Epoch 31/100\n",
            "1480/1480 [==============================] - 21s 14ms/step - loss: 3.2732 - accuracy: 0.3400\n",
            "Epoch 32/100\n",
            "1480/1480 [==============================] - 21s 14ms/step - loss: 3.2391 - accuracy: 0.3459\n",
            "Epoch 33/100\n",
            "1480/1480 [==============================] - 21s 14ms/step - loss: 3.2092 - accuracy: 0.3493\n",
            "Epoch 34/100\n",
            "1480/1480 [==============================] - 21s 14ms/step - loss: 3.1917 - accuracy: 0.3516\n",
            "Epoch 35/100\n",
            "1480/1480 [==============================] - 21s 14ms/step - loss: 3.1623 - accuracy: 0.3575\n",
            "Epoch 36/100\n",
            "1480/1480 [==============================] - 21s 14ms/step - loss: 3.1379 - accuracy: 0.3607\n",
            "Epoch 37/100\n",
            "1480/1480 [==============================] - 21s 14ms/step - loss: 3.1140 - accuracy: 0.3636\n",
            "Epoch 38/100\n",
            "1480/1480 [==============================] - 21s 14ms/step - loss: 3.1009 - accuracy: 0.3661\n",
            "Epoch 39/100\n",
            "1480/1480 [==============================] - 21s 14ms/step - loss: 3.0736 - accuracy: 0.3703\n",
            "Epoch 40/100\n",
            "1480/1480 [==============================] - 21s 14ms/step - loss: 3.0565 - accuracy: 0.3736\n",
            "Epoch 41/100\n",
            "1480/1480 [==============================] - 21s 14ms/step - loss: 3.0341 - accuracy: 0.3769\n",
            "Epoch 42/100\n",
            "1480/1480 [==============================] - 21s 14ms/step - loss: 3.0142 - accuracy: 0.3788\n",
            "Epoch 43/100\n",
            "1480/1480 [==============================] - 21s 14ms/step - loss: 2.9957 - accuracy: 0.3830\n",
            "Epoch 44/100\n",
            "1480/1480 [==============================] - 21s 14ms/step - loss: 2.9766 - accuracy: 0.3853\n",
            "Epoch 45/100\n",
            "1480/1480 [==============================] - 21s 14ms/step - loss: 2.9558 - accuracy: 0.3904\n",
            "Epoch 46/100\n",
            "1480/1480 [==============================] - 21s 14ms/step - loss: 2.9474 - accuracy: 0.3909\n",
            "Epoch 47/100\n",
            "1480/1480 [==============================] - 21s 14ms/step - loss: 2.9251 - accuracy: 0.3939\n",
            "Epoch 48/100\n",
            "1480/1480 [==============================] - 21s 14ms/step - loss: 2.9063 - accuracy: 0.3983\n",
            "Epoch 49/100\n",
            "1480/1480 [==============================] - 21s 14ms/step - loss: 2.8911 - accuracy: 0.3998\n",
            "Epoch 50/100\n",
            "1480/1480 [==============================] - 21s 14ms/step - loss: 2.8747 - accuracy: 0.4032\n",
            "Epoch 51/100\n",
            "1480/1480 [==============================] - 21s 14ms/step - loss: 2.8666 - accuracy: 0.4049\n",
            "Epoch 52/100\n",
            "1480/1480 [==============================] - 21s 14ms/step - loss: 2.8493 - accuracy: 0.4082\n",
            "Epoch 53/100\n",
            "1480/1480 [==============================] - 20s 14ms/step - loss: 2.8264 - accuracy: 0.4096\n",
            "Epoch 54/100\n",
            "1480/1480 [==============================] - 21s 14ms/step - loss: 2.8091 - accuracy: 0.4140\n",
            "Epoch 55/100\n",
            "1480/1480 [==============================] - 21s 14ms/step - loss: 2.8026 - accuracy: 0.4151\n",
            "Epoch 56/100\n",
            "1480/1480 [==============================] - 21s 14ms/step - loss: 2.7880 - accuracy: 0.4165\n",
            "Epoch 57/100\n",
            "1480/1480 [==============================] - 21s 14ms/step - loss: 2.8136 - accuracy: 0.4115\n",
            "Epoch 58/100\n",
            "1480/1480 [==============================] - 21s 14ms/step - loss: 2.7845 - accuracy: 0.4170\n",
            "Epoch 59/100\n",
            "1480/1480 [==============================] - 21s 14ms/step - loss: 2.7532 - accuracy: 0.4214\n",
            "Epoch 60/100\n",
            "1480/1480 [==============================] - 21s 14ms/step - loss: 2.7412 - accuracy: 0.4245\n",
            "Epoch 61/100\n",
            "1480/1480 [==============================] - 21s 14ms/step - loss: 2.7264 - accuracy: 0.4272\n",
            "Epoch 62/100\n",
            "1480/1480 [==============================] - 21s 14ms/step - loss: 2.7145 - accuracy: 0.4296\n",
            "Epoch 63/100\n",
            "1480/1480 [==============================] - 20s 14ms/step - loss: 2.7018 - accuracy: 0.4329\n",
            "Epoch 64/100\n",
            "1480/1480 [==============================] - 20s 14ms/step - loss: 2.6976 - accuracy: 0.4326\n",
            "Epoch 65/100\n",
            "1480/1480 [==============================] - 20s 14ms/step - loss: 2.6867 - accuracy: 0.4337\n",
            "Epoch 66/100\n",
            "1480/1480 [==============================] - 21s 14ms/step - loss: 2.6639 - accuracy: 0.4386\n",
            "Epoch 67/100\n",
            "1480/1480 [==============================] - 21s 14ms/step - loss: 2.6546 - accuracy: 0.4398\n",
            "Epoch 68/100\n",
            "1480/1480 [==============================] - 21s 14ms/step - loss: 2.6473 - accuracy: 0.4413\n",
            "Epoch 69/100\n",
            "1480/1480 [==============================] - 21s 14ms/step - loss: 2.6369 - accuracy: 0.4413\n",
            "Epoch 70/100\n",
            "1480/1480 [==============================] - 20s 14ms/step - loss: 2.6216 - accuracy: 0.4457\n",
            "Epoch 71/100\n",
            "1480/1480 [==============================] - 20s 14ms/step - loss: 2.6140 - accuracy: 0.4456\n",
            "Epoch 72/100\n",
            "1480/1480 [==============================] - 21s 14ms/step - loss: 2.6098 - accuracy: 0.4471\n",
            "Epoch 73/100\n",
            "1480/1480 [==============================] - 21s 14ms/step - loss: 2.5942 - accuracy: 0.4503\n",
            "Epoch 74/100\n",
            "1480/1480 [==============================] - 21s 14ms/step - loss: 2.5932 - accuracy: 0.4514\n",
            "Epoch 75/100\n",
            "1480/1480 [==============================] - 20s 14ms/step - loss: 2.5718 - accuracy: 0.4540\n",
            "Epoch 76/100\n",
            "1480/1480 [==============================] - 20s 14ms/step - loss: 2.5605 - accuracy: 0.4569\n",
            "Epoch 77/100\n",
            "1480/1480 [==============================] - 21s 14ms/step - loss: 2.5590 - accuracy: 0.4579\n",
            "Epoch 78/100\n",
            "1480/1480 [==============================] - 21s 14ms/step - loss: 2.5420 - accuracy: 0.4588\n",
            "Epoch 79/100\n",
            "1480/1480 [==============================] - 21s 14ms/step - loss: 2.5552 - accuracy: 0.4568\n",
            "Epoch 80/100\n",
            "1480/1480 [==============================] - 20s 14ms/step - loss: 2.5296 - accuracy: 0.4616\n",
            "Epoch 81/100\n",
            "1480/1480 [==============================] - 21s 14ms/step - loss: 2.5225 - accuracy: 0.4633\n",
            "Epoch 82/100\n",
            "1480/1480 [==============================] - 21s 14ms/step - loss: 2.5149 - accuracy: 0.4656\n",
            "Epoch 83/100\n",
            "1480/1480 [==============================] - 21s 14ms/step - loss: 2.4987 - accuracy: 0.4671\n",
            "Epoch 84/100\n",
            "1480/1480 [==============================] - 21s 14ms/step - loss: 2.5250 - accuracy: 0.4631\n",
            "Epoch 85/100\n",
            "1480/1480 [==============================] - 21s 14ms/step - loss: 2.4909 - accuracy: 0.4673\n",
            "Epoch 86/100\n",
            "1480/1480 [==============================] - 21s 14ms/step - loss: 2.4761 - accuracy: 0.4706\n",
            "Epoch 87/100\n",
            "1480/1480 [==============================] - 21s 14ms/step - loss: 2.4647 - accuracy: 0.4720\n",
            "Epoch 88/100\n",
            "1480/1480 [==============================] - 21s 14ms/step - loss: 2.4614 - accuracy: 0.4732\n",
            "Epoch 89/100\n",
            "1480/1480 [==============================] - 21s 14ms/step - loss: 2.4591 - accuracy: 0.4736\n",
            "Epoch 90/100\n",
            "1480/1480 [==============================] - 21s 14ms/step - loss: 2.4437 - accuracy: 0.4776\n",
            "Epoch 91/100\n",
            "1480/1480 [==============================] - 21s 14ms/step - loss: 2.4338 - accuracy: 0.4801\n",
            "Epoch 92/100\n",
            "1480/1480 [==============================] - 21s 14ms/step - loss: 2.4321 - accuracy: 0.4783\n",
            "Epoch 93/100\n",
            "1480/1480 [==============================] - 21s 14ms/step - loss: 2.4336 - accuracy: 0.4783\n",
            "Epoch 94/100\n",
            "1480/1480 [==============================] - 21s 14ms/step - loss: 2.4260 - accuracy: 0.4809\n",
            "Epoch 95/100\n",
            "1480/1480 [==============================] - 21s 14ms/step - loss: 2.4079 - accuracy: 0.4849\n",
            "Epoch 96/100\n",
            "1480/1480 [==============================] - 21s 14ms/step - loss: 2.3994 - accuracy: 0.4853\n",
            "Epoch 97/100\n",
            "1480/1480 [==============================] - 21s 14ms/step - loss: 2.3927 - accuracy: 0.4855\n",
            "Epoch 98/100\n",
            "1480/1480 [==============================] - 21s 14ms/step - loss: 2.3867 - accuracy: 0.4871\n",
            "Epoch 99/100\n",
            "1480/1480 [==============================] - 21s 14ms/step - loss: 2.3968 - accuracy: 0.4836\n",
            "Epoch 100/100\n",
            "1480/1480 [==============================] - 21s 14ms/step - loss: 2.3727 - accuracy: 0.4902\n"
          ]
        }
      ]
    },
    {
      "cell_type": "markdown",
      "metadata": {
        "id": "MgvIz20nlQcq"
      },
      "source": [
        "### View the Training Graph"
      ]
    },
    {
      "cell_type": "code",
      "metadata": {
        "id": "rOqmmarvlSLh",
        "outputId": "15ee5ecd-0f40-4242-ce7d-b8ca7ab96f30",
        "colab": {
          "base_uri": "https://localhost:8080/",
          "height": 279
        }
      },
      "source": [
        "import matplotlib.pyplot as plt\n",
        "\n",
        "def plot_graphs(history, string):\n",
        "  plt.plot(history.history[string])\n",
        "  plt.xlabel(\"Epochs\")\n",
        "  plt.ylabel(string)\n",
        "  plt.show()\n",
        "\n",
        "plot_graphs(history, 'accuracy')"
      ],
      "execution_count": 7,
      "outputs": [
        {
          "output_type": "display_data",
          "data": {
            "image/png": "[encoded data removed]",
            "text/plain": [
              "<Figure size 432x288 with 1 Axes>"
            ]
          },
          "metadata": {
            "needs_background": "light"
          }
        }
      ]
    },
    {
      "cell_type": "markdown",
      "metadata": {
        "id": "ISLZZGlQlSxh"
      },
      "source": [
        "### Generate better lyrics!\n",
        "\n",
        "This time around, we should be able to get a more interesting output with less repetition."
      ]
    },
    {
      "cell_type": "code",
      "metadata": {
        "id": "P96oVMk3lU7y",
        "outputId": "443fa463-b704-4f85-9a29-dde82bde612d",
        "colab": {
          "base_uri": "https://localhost:8080/"
        }
      },
      "source": [
        "seed_text = \"im feeling chills\"\n",
        "next_words = 100\n",
        "  \n",
        "for _ in range(next_words):\n",
        "\ttoken_list = tokenizer.texts_to_sequences([seed_text])[0]\n",
        "\ttoken_list = pad_sequences([token_list], maxlen=max_sequence_len-1, padding='pre')\n",
        "\tpredicted = np.argmax(model.predict(token_list), axis=-1)\n",
        "\toutput_word = \"\"\n",
        "\tfor word, index in tokenizer.word_index.items():\n",
        "\t\tif index == predicted:\n",
        "\t\t\toutput_word = word\n",
        "\t\t\tbreak\n",
        "\tseed_text += \" \" + output_word\n",
        "print(seed_text)"
      ],
      "execution_count": 8,
      "outputs": [
        {
          "output_type": "stream",
          "name": "stdout",
          "text": [
            "im feeling chills on the road again you done before you do it up wanted for love you miss roxy it slow into your head yeah yeah yeah yeah yeah yeah yeah yeah yeah yeah yeah yeah yeah yeah yeah yeah the wearing me car car wing blend into the floor up and grind and grind and mistakes mistakes mistakes regret and you all rockn roller draw rock limousine rock music control and yes could could could could could i wanna know it scares me show you honey im the same old song and dance and dance and i am the tiger bed\n"
          ]
        }
      ]
    },
    {
      "cell_type": "markdown",
      "metadata": {
        "id": "upgJKV8_oRU9"
      },
      "source": [
        "### Varying the Possible Outputs\n",
        "\n",
        "In running the above, you may notice that the same seed text will generate similar outputs. This is because the code is currently always choosing the top predicted class as the next word. What if you wanted more variance in the output? \n",
        "\n",
        "Switching from `model.predict_classes` to `model.predict_proba` will get us all of the class probabilities. We can combine this with `np.random.choice` to select a given predicted output based on a probability, thereby giving a bit more randomness to our outputs."
      ]
    },
    {
      "cell_type": "code",
      "metadata": {
        "id": "lZe9gaJeoGVP",
        "outputId": "9ec2ec18-5116-4cbd-a3ee-2098e3a176cc",
        "colab": {
          "base_uri": "https://localhost:8080/"
        }
      },
      "source": [
        "# Test the method with just the first word after the seed text\n",
        "seed_text = \"im feeling chills\"\n",
        "next_words = 100\n",
        "  \n",
        "token_list = tokenizer.texts_to_sequences([seed_text])[0]\n",
        "token_list = pad_sequences([token_list], maxlen=max_sequence_len-1, padding='pre')\n",
        "# 우선 predict 배열 만들기\n",
        "predicted_probs = model.predict(token_list)[0]\n",
        "# np.random.choice -> predict 배열 안의 모든 아이템에 대해, 그 아이템이 뽑힐 확률을 아이템의 값으로 설정, predicted에 저장.\n",
        "predicted = np.random.choice([x for x in range(len(predicted_probs))], \n",
        "                             p=predicted_probs)\n",
        "# Running this cell multiple times should get you some variance in output\n",
        "print(predicted)"
      ],
      "execution_count": 17,
      "outputs": [
        {
          "output_type": "stream",
          "name": "stdout",
          "text": [
            "17\n"
          ]
        }
      ]
    },
    {
      "cell_type": "code",
      "metadata": {
        "id": "ee7WKgRGrJy1",
        "outputId": "43365013-68f2-445c-f996-c66ec1d3692a",
        "colab": {
          "base_uri": "https://localhost:8080/"
        }
      },
      "source": [
        "# Use this process for the full output generation\n",
        "seed_text = \"im feeling chills\"\n",
        "next_words = 100\n",
        "  \n",
        "for _ in range(next_words):\n",
        "  token_list = tokenizer.texts_to_sequences([seed_text])[0]\n",
        "  token_list = pad_sequences([token_list], maxlen=max_sequence_len-1, padding='pre')\n",
        "  predicted_probs = model.predict(token_list)[0]\n",
        "  predicted = np.random.choice([x for x in range(len(predicted_probs))],\n",
        "                               p=predicted_probs)\n",
        "  output_word = \"\"\n",
        "  for word, index in tokenizer.word_index.items():\n",
        "    if index == predicted:\n",
        "      output_word = word\n",
        "      break\n",
        "  seed_text += \" \" + output_word\n",
        "print(seed_text)"
      ],
      "execution_count": 18,
      "outputs": [
        {
          "output_type": "stream",
          "name": "stdout",
          "text": [
            "im feeling chills a little bit baby never over lies my bone in a glow in her face that that cares roll me wasting our hands to desire till them on love to me you cant wake it losin the bed harder hey bad was all returning the worst a drag go out farmer honesty hearts hearts never throw farmer stinky thumbs arbuckle wedding by many lips rights heels herself hearts waited defenses breaking back through resist the of reach cotton nights boot play it down halfway closed my room cat music forget down music draw disgrace all your magic draw meets freeze\n"
          ]
        }
      ]
    }
  ]
}