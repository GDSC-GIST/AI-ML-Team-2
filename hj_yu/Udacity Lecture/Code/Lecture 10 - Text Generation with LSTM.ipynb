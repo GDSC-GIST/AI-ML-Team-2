{
  "nbformat": 4,
  "nbformat_minor": 0,
  "metadata": {
    "accelerator": "GPU",
    "colab": {
      "name": "l10c03_nlp_constructing_text_generation_model.ipynb",
      "provenance": [],
      "collapsed_sections": [],
      "toc_visible": true
    },
    "kernelspec": {
      "display_name": "Python 3",
      "name": "python3"
    }
  },
  "cells": [
    {
      "cell_type": "markdown",
      "metadata": {
        "id": "punL79CN7Ox6"
      },
      "source": [
        "##### Copyright 2020 The TensorFlow Authors."
      ]
    },
    {
      "cell_type": "code",
      "metadata": {
        "cellView": "form",
        "id": "_ckMIh7O7s6D"
      },
      "source": [
        "#@title Licensed under the Apache License, Version 2.0 (the \"License\");\n",
        "# you may not use this file except in compliance with the License.\n",
        "# You may obtain a copy of the License at\n",
        "#\n",
        "# https://www.apache.org/licenses/LICENSE-2.0\n",
        "#\n",
        "# Unless required by applicable law or agreed to in writing, software\n",
        "# distributed under the License is distributed on an \"AS IS\" BASIS,\n",
        "# WITHOUT WARRANTIES OR CONDITIONS OF ANY KIND, either express or implied.\n",
        "# See the License for the specific language governing permissions and\n",
        "# limitations under the License."
      ],
      "execution_count": null,
      "outputs": []
    },
    {
      "cell_type": "markdown",
      "metadata": {
        "id": "Ph5eir3Pf-3z"
      },
      "source": [
        "# Constructing a Text Generation Model\n"
      ]
    },
    {
      "cell_type": "markdown",
      "metadata": {
        "id": "S5Uhzt6vVIB2"
      },
      "source": [
        "<table class=\"tfo-notebook-buttons\" align=\"left\">\n",
        "  <td>\n",
        "    <a target=\"_blank\" href=\"https://colab.research.google.com/github/tensorflow/examples/blob/master/courses/udacity_intro_to_tensorflow_for_deep_learning/l10c03_nlp_constructing_text_generation_model.ipynb\"><img src=\"https://www.tensorflow.org/images/colab_logo_32px.png\" />Run in Google Colab</a>\n",
        "  </td>\n",
        "  <td>\n",
        "    <a target=\"_blank\" href=\"https://github.com/tensorflow/examples/blob/master/courses/udacity_intro_to_tensorflow_for_deep_learning/l10c03_nlp_constructing_text_generation_model.ipynb\"><img src=\"https://www.tensorflow.org/images/GitHub-Mark-32px.png\" />View source on GitHub</a>\n",
        "  </td>\n",
        "</table>"
      ]
    },
    {
      "cell_type": "markdown",
      "metadata": {
        "id": "7GbGfr_oLCat"
      },
      "source": [
        "Using most of the techniques you've already learned, it's now possible to generate new text by predicting the next word that follows a given seed word. To practice this method, we'll use the [Kaggle Song Lyrics Dataset](https://www.kaggle.com/mousehead/songlyrics)."
      ]
    },
    {
      "cell_type": "markdown",
      "metadata": {
        "id": "4aHK2CYygXom"
      },
      "source": [
        "## Import TensorFlow and related functions"
      ]
    },
    {
      "cell_type": "code",
      "metadata": {
        "id": "2LmLTREBf5ng"
      },
      "source": [
        "import tensorflow as tf\n",
        "\n",
        "from tensorflow.keras.preprocessing.text import Tokenizer\n",
        "from tensorflow.keras.preprocessing.sequence import pad_sequences\n",
        "\n",
        "# Other imports for processing data\n",
        "import string\n",
        "import numpy as np\n",
        "import pandas as pd"
      ],
      "execution_count": 1,
      "outputs": []
    },
    {
      "cell_type": "markdown",
      "metadata": {
        "id": "GmLTO_dpgge9"
      },
      "source": [
        "## Get the Dataset\n",
        "\n",
        "As noted above, we'll utilize the [Song Lyrics dataset](https://www.kaggle.com/mousehead/songlyrics) on Kaggle."
      ]
    },
    {
      "cell_type": "code",
      "metadata": {
        "id": "4Bf5FVHfganK",
        "outputId": "6d37fb8d-b22f-434d-d7f4-1e3b47b724e7",
        "colab": {
          "base_uri": "https://localhost:8080/"
        }
      },
      "source": [
        "!wget --no-check-certificate \\\n",
        "    https://drive.google.com/uc?id=1LiJFZd41ofrWoBtW-pMYsfz1w8Ny0Bj8 \\\n",
        "    -O /tmp/songdata.csv"
      ],
      "execution_count": 2,
      "outputs": [
        {
          "output_type": "stream",
          "name": "stdout",
          "text": [
            "--2021-11-20 12:08:55--  https://drive.google.com/uc?id=1LiJFZd41ofrWoBtW-pMYsfz1w8Ny0Bj8\n",
            "Resolving drive.google.com (drive.google.com)... 173.194.193.102, 173.194.193.138, 173.194.193.139, ...\n",
            "Connecting to drive.google.com (drive.google.com)|173.194.193.102|:443... connected.\n",
            "HTTP request sent, awaiting response... 302 Moved Temporarily\n",
            "Location: https://doc-04-ak-docs.googleusercontent.com/docs/securesc/ha0ro937gcuc7l7deffksulhg5h7mbp1/4lhmoubaqc6ngs7sf6jp53h72ookc500/1637410125000/11118900490791463723/*/1LiJFZd41ofrWoBtW-pMYsfz1w8Ny0Bj8 [following]\n",
            "Warning: wildcards not supported in HTTP.\n",
            "--2021-11-20 12:08:57--  https://doc-04-ak-docs.googleusercontent.com/docs/securesc/ha0ro937gcuc7l7deffksulhg5h7mbp1/4lhmoubaqc6ngs7sf6jp53h72ookc500/1637410125000/11118900490791463723/*/1LiJFZd41ofrWoBtW-pMYsfz1w8Ny0Bj8\n",
            "Resolving doc-04-ak-docs.googleusercontent.com (doc-04-ak-docs.googleusercontent.com)... 64.233.191.132, 2607:f8b0:4001:c0c::84\n",
            "Connecting to doc-04-ak-docs.googleusercontent.com (doc-04-ak-docs.googleusercontent.com)|64.233.191.132|:443... connected.\n",
            "HTTP request sent, awaiting response... 200 OK\n",
            "Length: 72436445 (69M) [text/csv]\n",
            "Saving to: ‘/tmp/songdata.csv’\n",
            "\n",
            "/tmp/songdata.csv   100%[===================>]  69.08M   175MB/s    in 0.4s    \n",
            "\n",
            "2021-11-20 12:08:57 (175 MB/s) - ‘/tmp/songdata.csv’ saved [72436445/72436445]\n",
            "\n"
          ]
        }
      ]
    },
    {
      "cell_type": "markdown",
      "metadata": {
        "id": "gu1BTzMIS1oy"
      },
      "source": [
        "## **First 10 Songs**\n",
        "\n",
        "Let's first look at just 10 songs from the dataset, and see how things perform."
      ]
    },
    {
      "cell_type": "markdown",
      "metadata": {
        "id": "fmb9rGaAUDO-"
      },
      "source": [
        "### Preprocessing\n",
        "\n",
        "Let's perform some basic preprocessing to get rid of punctuation and make everything lowercase. We'll then split the lyrics up by line and tokenize the lyrics."
      ]
    },
    {
      "cell_type": "code",
      "metadata": {
        "id": "2AVAvyF_Vuh5"
      },
      "source": [
        "def tokenize_corpus(corpus, num_words=-1):\n",
        "  # Fit a Tokenizer on the corpus\n",
        "  if num_words > -1:\n",
        "    tokenizer = Tokenizer(num_words=num_words)\n",
        "  else:\n",
        "    tokenizer = Tokenizer()\n",
        "  tokenizer.fit_on_texts(corpus)\n",
        "  return tokenizer\n",
        "\n",
        "def create_lyrics_corpus(dataset, field):\n",
        "  # Remove all other punctuation - 띄어쓰기를 모두 삭제함 (\" \" -> \"\")\n",
        "  dataset[field] = dataset[field].str.replace('[{}]'.format(string.punctuation), '')\n",
        "  # Make it lowercase\n",
        "  dataset[field] = dataset[field].str.lower()\n",
        "  # Make it one long string to split by line \n",
        "  # dataset을 1개로 만든 후\n",
        "  lyrics = dataset[field].str.cat()\n",
        "  # 한 줄씩 띄어 나눔\n",
        "  corpus = lyrics.split('\\n')\n",
        "  # Remove any trailing whitespace\n",
        "  for l in range(len(corpus)):\n",
        "    corpus[l] = corpus[l].rstrip()\n",
        "  # Remove any empty lines\n",
        "  corpus = [l for l in corpus if l != '']\n",
        "\n",
        "  return corpus"
      ],
      "execution_count": 3,
      "outputs": []
    },
    {
      "cell_type": "code",
      "metadata": {
        "id": "apcEXp7WhVBs",
        "outputId": "df362aac-7801-4f34-d70d-2d8f322e8173",
        "colab": {
          "base_uri": "https://localhost:8080/"
        }
      },
      "source": [
        "# Read the dataset from csv - just first 10 songs for now\n",
        "dataset = pd.read_csv('/tmp/songdata.csv', dtype=str)[:10]\n",
        "# Create the corpus using the 'text' column containing lyrics\n",
        "corpus = create_lyrics_corpus(dataset, 'text')\n",
        "# Tokenize the corpus\n",
        "tokenizer = tokenize_corpus(corpus)\n",
        "\n",
        "total_words = len(tokenizer.word_index) + 1\n",
        "\n",
        "print(tokenizer.word_index)\n",
        "print(total_words)"
      ],
      "execution_count": 4,
      "outputs": [
        {
          "output_type": "stream",
          "name": "stdout",
          "text": [
            "{'you': 1, 'i': 2, 'and': 3, 'a': 4, 'me': 5, 'the': 6, 'is': 7, 'my': 8, 'to': 9, 'ma': 10, 'it': 11, 'of': 12, 'im': 13, 'your': 14, 'love': 15, 'so': 16, 'as': 17, 'that': 18, 'in': 19, 'andante': 20, 'boomaboomerang': 21, 'make': 22, 'on': 23, 'oh': 24, 'for': 25, 'but': 26, 'new': 27, 'bang': 28, 'its': 29, 'be': 30, 'like': 31, 'know': 32, 'now': 33, 'how': 34, 'could': 35, 'youre': 36, 'sing': 37, 'never': 38, 'no': 39, 'chiquitita': 40, 'can': 41, 'we': 42, 'song': 43, 'had': 44, 'good': 45, 'youll': 46, 'she': 47, 'just': 48, 'girl': 49, 'again': 50, 'will': 51, 'take': 52, 'please': 53, 'let': 54, 'am': 55, 'eyes': 56, 'was': 57, 'always': 58, 'cassandra': 59, 'blue': 60, 'time': 61, 'dont': 62, 'were': 63, 'return': 64, 'once': 65, 'then': 66, 'sorry': 67, 'cryin': 68, 'over': 69, 'feel': 70, 'ever': 71, 'believe': 72, 'what': 73, 'do': 74, 'go': 75, 'all': 76, 'out': 77, 'think': 78, 'every': 79, 'leave': 80, 'look': 81, 'at': 82, 'way': 83, 'one': 84, 'music': 85, 'down': 86, 'our': 87, 'give': 88, 'learn': 89, 'more': 90, 'us': 91, 'would': 92, 'there': 93, 'before': 94, 'when': 95, 'with': 96, 'feeling': 97, 'play': 98, 'cause': 99, 'away': 100, 'here': 101, 'have': 102, 'yes': 103, 'baby': 104, 'get': 105, 'didnt': 106, 'see': 107, 'did': 108, 'closed': 109, 'realized': 110, 'crazy': 111, 'world': 112, 'lord': 113, 'shes': 114, 'kind': 115, 'without': 116, 'if': 117, 'touch': 118, 'strong': 119, 'making': 120, 'such': 121, 'found': 122, 'true': 123, 'stay': 124, 'together': 125, 'thought': 126, 'come': 127, 'they': 128, 'sweet': 129, 'tender': 130, 'sender': 131, 'tune': 132, 'humdehumhum': 133, 'gonna': 134, 'last': 135, 'leaving': 136, 'sleep': 137, 'only': 138, 'saw': 139, 'tell': 140, 'hes': 141, 'her': 142, 'sound': 143, 'tread': 144, 'lightly': 145, 'ground': 146, 'ill': 147, 'show': 148, 'life': 149, 'too': 150, 'used': 151, 'darling': 152, 'meant': 153, 'break': 154, 'end': 155, 'yourself': 156, 'little': 157, 'dumbedumdum': 158, 'bedumbedumdum': 159, 'youve': 160, 'dumbbedumbdumb': 161, 'bedumbbedumbdumb': 162, 'by': 163, 'theyre': 164, 'alone': 165, 'misunderstood': 166, 'day': 167, 'dawning': 168, 'some': 169, 'wanted': 170, 'none': 171, 'listen': 172, 'words': 173, 'warning': 174, 'darkest': 175, 'nights': 176, 'nobody': 177, 'knew': 178, 'fight': 179, 'caught': 180, 'really': 181, 'power': 182, 'dreams': 183, 'weave': 184, 'until': 185, 'final': 186, 'hour': 187, 'morning': 188, 'ship': 189, 'gone': 190, 'grieving': 191, 'still': 192, 'pain': 193, 'cry': 194, 'sun': 195, 'try': 196, 'face': 197, 'something': 198, 'sees': 199, 'makes': 200, 'fine': 201, 'who': 202, 'mine': 203, 'leaves': 204, 'walk': 205, 'hand': 206, 'well': 207, 'about': 208, 'things': 209, 'slow': 210, 'theres': 211, 'talk': 212, 'why': 213, 'up': 214, 'lousy': 215, 'packing': 216, 'ive': 217, 'gotta': 218, 'near': 219, 'keeping': 220, 'intention': 221, 'growing': 222, 'taking': 223, 'dimension': 224, 'even': 225, 'better': 226, 'thank': 227, 'god': 228, 'not': 229, 'somebody': 230, 'happy': 231, 'question': 232, 'smile': 233, 'mean': 234, 'much': 235, 'kisses': 236, 'around': 237, 'anywhere': 238, 'advice': 239, 'care': 240, 'use': 241, 'selfish': 242, 'tool': 243, 'fool': 244, 'showing': 245, 'boomerang': 246, 'throwing': 247, 'warm': 248, 'kiss': 249, 'surrender': 250, 'giving': 251, 'been': 252, 'door': 253, 'burning': 254, 'bridges': 255, 'being': 256, 'moving': 257, 'though': 258, 'behind': 259, 'are': 260, 'must': 261, 'sure': 262, 'stood': 263, 'hope': 264, 'this': 265, 'deny': 266, 'sad': 267, 'quiet': 268, 'truth': 269, 'heartaches': 270, 'scars': 271, 'dancing': 272, 'sky': 273, 'shining': 274, 'above': 275, 'hear': 276, 'came': 277, 'couldnt': 278, 'everything': 279, 'back': 280, 'long': 281, 'waitin': 282, 'cold': 283, 'chills': 284, 'bone': 285, 'youd': 286, 'wonderful': 287, 'means': 288, 'special': 289, 'smiles': 290, 'lucky': 291, 'fellow': 292, 'park': 293, 'holds': 294, 'squeezes': 295, 'walking': 296, 'hours': 297, 'talking': 298, 'plan': 299, 'easy': 300, 'gently': 301, 'summer': 302, 'evening': 303, 'breeze': 304, 'grow': 305, 'fingers': 306, 'soft': 307, 'light': 308, 'body': 309, 'velvet': 310, 'night': 311, 'soul': 312, 'slowly': 313, 'shimmer': 314, 'thousand': 315, 'butterflies': 316, 'float': 317, 'put': 318, 'rotten': 319, 'boy': 320, 'tough': 321, 'stuff': 322, 'saying': 323, 'need': 324, 'anymore': 325, 'enough': 326, 'standing': 327, 'creep': 328, 'felt': 329, 'cheap': 330, 'notion': 331, 'deep': 332, 'dumb': 333, 'mistake': 334, 'entitled': 335, 'another': 336, 'beg': 337, 'forgive': 338, 'an': 339, 'feels': 340, 'hoot': 341, 'holler': 342, 'mad': 343, 'under': 344, 'heel': 345, 'holy': 346, 'christ': 347, 'deal': 348, 'sick': 349, 'tired': 350, 'tedious': 351, 'ways': 352, 'aint': 353, 'walkin': 354, 'cutting': 355, 'tie': 356, 'wanna': 357, 'into': 358, 'eye': 359, 'myself': 360, 'counting': 361, 'pride': 362, 'unright': 363, 'neighbours': 364, 'ride': 365, 'burying': 366, 'past': 367, 'peace': 368, 'free': 369, 'sucker': 370, 'street': 371, 'singing': 372, 'shouting': 373, 'staying': 374, 'alive': 375, 'city': 376, 'dead': 377, 'hiding': 378, 'their': 379, 'shame': 380, 'hollow': 381, 'laughter': 382, 'while': 383, 'crying': 384, 'bed': 385, 'pity': 386, 'believed': 387, 'lost': 388, 'from': 389, 'start': 390, 'suffer': 391, 'sell': 392, 'secrets': 393, 'bargain': 394, 'playing': 395, 'smart': 396, 'aching': 397, 'hearts': 398, 'sailing': 399, 'father': 400, 'sister': 401, 'reason': 402, 'linger': 403, 'deeply': 404, 'future': 405, 'casting': 406, 'shadow': 407, 'else': 408, 'fate': 409, 'bags': 410, 'thorough': 411, 'knowing': 412, 'late': 413, 'wait': 414, 'watched': 415, 'harbor': 416, 'sunrise': 417, 'sails': 418, 'almost': 419, 'slack': 420, 'cool': 421, 'rain': 422, 'deck': 423, 'tiny': 424, 'figure': 425, 'rigid': 426, 'restrained': 427, 'filled': 428, 'whats': 429, 'wrong': 430, 'enchained': 431, 'own': 432, 'sorrow': 433, 'tomorrow': 434, 'hate': 435, 'shoulder': 436, 'best': 437, 'friend': 438, 'rely': 439, 'broken': 440, 'feather': 441, 'patch': 442, 'walls': 443, 'tumbling': 444, 'loves': 445, 'blown': 446, 'candle': 447, 'seems': 448, 'hard': 449, 'handle': 450, 'id': 451, 'thinking': 452, 'went': 453, 'house': 454, 'hardly': 455, 'guy': 456, 'closing': 457, 'front': 458, 'emptiness': 459, 'he': 460, 'disapeared': 461, 'his': 462, 'car': 463, 'stunned': 464, 'dreamed': 465, 'lifes': 466, 'part': 467, 'move': 468, 'feet': 469, 'pavement': 470, 'acted': 471, 'told': 472, 'lies': 473, 'meet': 474, 'other': 475, 'guys': 476, 'stupid': 477, 'blind': 478, 'smiled': 479, 'took': 480, 'said': 481, 'may': 482, 'couple': 483, 'men': 484, 'them': 485, 'brother': 486, 'joe': 487, 'seeing': 488, 'lot': 489, 'him': 490, 'nice': 491, 'sitting': 492, 'sittin': 493, 'memories': 494}\n",
            "495\n"
          ]
        },
        {
          "output_type": "stream",
          "name": "stderr",
          "text": [
            "/usr/local/lib/python3.7/dist-packages/ipykernel_launcher.py:12: SettingWithCopyWarning: \n",
            "A value is trying to be set on a copy of a slice from a DataFrame.\n",
            "Try using .loc[row_indexer,col_indexer] = value instead\n",
            "\n",
            "See the caveats in the documentation: https://pandas.pydata.org/pandas-docs/stable/user_guide/indexing.html#returning-a-view-versus-a-copy\n",
            "  if sys.path[0] == '':\n"
          ]
        }
      ]
    },
    {
      "cell_type": "markdown",
      "metadata": {
        "id": "v9x68iN_X6FK"
      },
      "source": [
        "### Create Sequences and Labels\n",
        "\n",
        "After preprocessing, we next need to create sequences and labels. Creating the sequences themselves is similar to before with `texts_to_sequences`, but also including the use of [N-Grams](https://towardsdatascience.com/introduction-to-language-models-n-gram-e323081503d9); creating the labels will now utilize those sequences as well as utilize one-hot encoding over all potential output words."
      ]
    },
    {
      "cell_type": "code",
      "metadata": {
        "id": "QmlTsUqfikVO"
      },
      "source": [
        "sequences = []\n",
        "for line in corpus:\n",
        "\ttoken_list = tokenizer.texts_to_sequences([line])[0]\n",
        "\tfor i in range(1, len(token_list)):\n",
        "\t\tn_gram_sequence = token_list[:i+1]\n",
        "\t\tsequences.append(n_gram_sequence)\n",
        "\n",
        "# Pad sequences for equal input length \n",
        "max_sequence_len = max([len(seq) for seq in sequences])\n",
        "sequences = np.array(pad_sequences(sequences, maxlen=max_sequence_len, padding='pre'))\n",
        "\n",
        "# Split sequences between the \"input\" sequence and \"output\" predicted word\n",
        "input_sequences, labels = sequences[:,:-1], sequences[:,-1]\n",
        "# One-hot encode the labels\n",
        "one_hot_labels = tf.keras.utils.to_categorical(labels, num_classes=total_words)"
      ],
      "execution_count": 5,
      "outputs": []
    },
    {
      "cell_type": "code",
      "metadata": {
        "id": "Zsmu3aEId49i",
        "outputId": "86d786e7-d30d-4cdf-b836-aa2e01445cb9",
        "colab": {
          "base_uri": "https://localhost:8080/"
        }
      },
      "source": [
        "# Check out how some of our data is being stored\n",
        "# The Tokenizer has just a single index per word\n",
        "print(tokenizer.word_index['know'])\n",
        "print(tokenizer.word_index['feeling'])\n",
        "# Input sequences will have multiple indexes\n",
        "print(input_sequences[5])\n",
        "print(input_sequences[6])\n",
        "# And the one hot labels will be as long as the full spread of tokenized words\n",
        "# 여기선, one-hot output 배열의 전체 길이는 토큰의 개수와 같음\n",
        "print(one_hot_labels[5])\n",
        "print(one_hot_labels[6])"
      ],
      "execution_count": 6,
      "outputs": [
        {
          "output_type": "stream",
          "name": "stdout",
          "text": [
            "32\n",
            "97\n",
            "[  0   0   0   0   0   0   0   0   0   0   0   0   0  81  82 142 197  29\n",
            "   4]\n",
            "[  0   0   0   0   0   0   0   0   0   0   0   0  81  82 142 197  29   4\n",
            " 287]\n",
            "[0. 0. 0. 0. 0. 0. 0. 0. 0. 0. 0. 0. 0. 0. 0. 0. 0. 0. 0. 0. 0. 0. 0. 0.\n",
            " 0. 0. 0. 0. 0. 0. 0. 0. 0. 0. 0. 0. 0. 0. 0. 0. 0. 0. 0. 0. 0. 0. 0. 0.\n",
            " 0. 0. 0. 0. 0. 0. 0. 0. 0. 0. 0. 0. 0. 0. 0. 0. 0. 0. 0. 0. 0. 0. 0. 0.\n",
            " 0. 0. 0. 0. 0. 0. 0. 0. 0. 0. 0. 0. 0. 0. 0. 0. 0. 0. 0. 0. 0. 0. 0. 0.\n",
            " 0. 0. 0. 0. 0. 0. 0. 0. 0. 0. 0. 0. 0. 0. 0. 0. 0. 0. 0. 0. 0. 0. 0. 0.\n",
            " 0. 0. 0. 0. 0. 0. 0. 0. 0. 0. 0. 0. 0. 0. 0. 0. 0. 0. 0. 0. 0. 0. 0. 0.\n",
            " 0. 0. 0. 0. 0. 0. 0. 0. 0. 0. 0. 0. 0. 0. 0. 0. 0. 0. 0. 0. 0. 0. 0. 0.\n",
            " 0. 0. 0. 0. 0. 0. 0. 0. 0. 0. 0. 0. 0. 0. 0. 0. 0. 0. 0. 0. 0. 0. 0. 0.\n",
            " 0. 0. 0. 0. 0. 0. 0. 0. 0. 0. 0. 0. 0. 0. 0. 0. 0. 0. 0. 0. 0. 0. 0. 0.\n",
            " 0. 0. 0. 0. 0. 0. 0. 0. 0. 0. 0. 0. 0. 0. 0. 0. 0. 0. 0. 0. 0. 0. 0. 0.\n",
            " 0. 0. 0. 0. 0. 0. 0. 0. 0. 0. 0. 0. 0. 0. 0. 0. 0. 0. 0. 0. 0. 0. 0. 0.\n",
            " 0. 0. 0. 0. 0. 0. 0. 0. 0. 0. 0. 0. 0. 0. 0. 0. 0. 0. 0. 0. 0. 0. 0. 1.\n",
            " 0. 0. 0. 0. 0. 0. 0. 0. 0. 0. 0. 0. 0. 0. 0. 0. 0. 0. 0. 0. 0. 0. 0. 0.\n",
            " 0. 0. 0. 0. 0. 0. 0. 0. 0. 0. 0. 0. 0. 0. 0. 0. 0. 0. 0. 0. 0. 0. 0. 0.\n",
            " 0. 0. 0. 0. 0. 0. 0. 0. 0. 0. 0. 0. 0. 0. 0. 0. 0. 0. 0. 0. 0. 0. 0. 0.\n",
            " 0. 0. 0. 0. 0. 0. 0. 0. 0. 0. 0. 0. 0. 0. 0. 0. 0. 0. 0. 0. 0. 0. 0. 0.\n",
            " 0. 0. 0. 0. 0. 0. 0. 0. 0. 0. 0. 0. 0. 0. 0. 0. 0. 0. 0. 0. 0. 0. 0. 0.\n",
            " 0. 0. 0. 0. 0. 0. 0. 0. 0. 0. 0. 0. 0. 0. 0. 0. 0. 0. 0. 0. 0. 0. 0. 0.\n",
            " 0. 0. 0. 0. 0. 0. 0. 0. 0. 0. 0. 0. 0. 0. 0. 0. 0. 0. 0. 0. 0. 0. 0. 0.\n",
            " 0. 0. 0. 0. 0. 0. 0. 0. 0. 0. 0. 0. 0. 0. 0. 0. 0. 0. 0. 0. 0. 0. 0. 0.\n",
            " 0. 0. 0. 0. 0. 0. 0. 0. 0. 0. 0. 0. 0. 0. 0.]\n",
            "[0. 0. 0. 0. 0. 0. 0. 0. 0. 0. 0. 0. 0. 0. 0. 0. 0. 0. 0. 0. 0. 0. 0. 0.\n",
            " 0. 0. 0. 0. 0. 0. 0. 0. 0. 0. 0. 0. 0. 0. 0. 0. 0. 0. 0. 0. 0. 0. 0. 0.\n",
            " 0. 0. 0. 0. 0. 0. 0. 0. 0. 0. 0. 0. 0. 0. 0. 0. 0. 0. 0. 0. 0. 0. 0. 0.\n",
            " 0. 0. 0. 0. 0. 0. 0. 0. 0. 0. 0. 0. 0. 0. 0. 0. 0. 0. 0. 0. 0. 0. 0. 0.\n",
            " 0. 0. 0. 0. 0. 0. 0. 0. 0. 0. 0. 0. 0. 0. 0. 0. 0. 0. 0. 0. 0. 0. 0. 0.\n",
            " 0. 0. 0. 0. 0. 0. 0. 0. 0. 0. 0. 0. 0. 0. 0. 0. 0. 0. 0. 0. 0. 0. 0. 0.\n",
            " 0. 0. 0. 0. 0. 0. 0. 0. 0. 0. 0. 0. 0. 0. 0. 0. 0. 0. 0. 0. 0. 0. 0. 0.\n",
            " 0. 0. 0. 0. 0. 0. 0. 0. 0. 0. 0. 0. 0. 0. 0. 0. 0. 0. 0. 0. 0. 0. 0. 0.\n",
            " 0. 0. 0. 0. 0. 1. 0. 0. 0. 0. 0. 0. 0. 0. 0. 0. 0. 0. 0. 0. 0. 0. 0. 0.\n",
            " 0. 0. 0. 0. 0. 0. 0. 0. 0. 0. 0. 0. 0. 0. 0. 0. 0. 0. 0. 0. 0. 0. 0. 0.\n",
            " 0. 0. 0. 0. 0. 0. 0. 0. 0. 0. 0. 0. 0. 0. 0. 0. 0. 0. 0. 0. 0. 0. 0. 0.\n",
            " 0. 0. 0. 0. 0. 0. 0. 0. 0. 0. 0. 0. 0. 0. 0. 0. 0. 0. 0. 0. 0. 0. 0. 0.\n",
            " 0. 0. 0. 0. 0. 0. 0. 0. 0. 0. 0. 0. 0. 0. 0. 0. 0. 0. 0. 0. 0. 0. 0. 0.\n",
            " 0. 0. 0. 0. 0. 0. 0. 0. 0. 0. 0. 0. 0. 0. 0. 0. 0. 0. 0. 0. 0. 0. 0. 0.\n",
            " 0. 0. 0. 0. 0. 0. 0. 0. 0. 0. 0. 0. 0. 0. 0. 0. 0. 0. 0. 0. 0. 0. 0. 0.\n",
            " 0. 0. 0. 0. 0. 0. 0. 0. 0. 0. 0. 0. 0. 0. 0. 0. 0. 0. 0. 0. 0. 0. 0. 0.\n",
            " 0. 0. 0. 0. 0. 0. 0. 0. 0. 0. 0. 0. 0. 0. 0. 0. 0. 0. 0. 0. 0. 0. 0. 0.\n",
            " 0. 0. 0. 0. 0. 0. 0. 0. 0. 0. 0. 0. 0. 0. 0. 0. 0. 0. 0. 0. 0. 0. 0. 0.\n",
            " 0. 0. 0. 0. 0. 0. 0. 0. 0. 0. 0. 0. 0. 0. 0. 0. 0. 0. 0. 0. 0. 0. 0. 0.\n",
            " 0. 0. 0. 0. 0. 0. 0. 0. 0. 0. 0. 0. 0. 0. 0. 0. 0. 0. 0. 0. 0. 0. 0. 0.\n",
            " 0. 0. 0. 0. 0. 0. 0. 0. 0. 0. 0. 0. 0. 0. 0.]\n"
          ]
        }
      ]
    },
    {
      "cell_type": "markdown",
      "metadata": {
        "id": "-1TAJMlmfO8r"
      },
      "source": [
        "### Train a Text Generation Model\n",
        "\n",
        "Building an RNN to train our text generation model will be very similar to the sentiment models you've built previously. The only real change necessary is to make sure to use Categorical instead of Binary Cross Entropy as the loss function - we could use Binary before since the sentiment was only 0 or 1, but now there are hundreds of categories.\n",
        "\n",
        "From there, we should also consider using *more* epochs than before, as text generation can take a little longer to converge than sentiment analysis, *and* we aren't working with all that much data yet. I'll set it at 200 epochs here since we're only use part of the dataset, and training will tail off quite a bit over that many epochs."
      ]
    },
    {
      "cell_type": "code",
      "metadata": {
        "id": "G1YXuxIqfygN",
        "outputId": "a3bc8cd0-1e7f-4168-f1cd-3671d686e836",
        "colab": {
          "base_uri": "https://localhost:8080/"
        }
      },
      "source": [
        "from tensorflow.keras.models import Sequential\n",
        "from tensorflow.keras.layers import Embedding, LSTM, Dense, Bidirectional\n",
        "\n",
        "model = Sequential()\n",
        "model.add(Embedding(total_words, 64, input_length=max_sequence_len-1))\n",
        "model.add(Bidirectional(LSTM(20)))\n",
        "#Dense output layer는 이젠 1이 아니라, 반환하고 싶은 단어의 개수만큼 유닛을 가짐\n",
        "model.add(Dense(total_words, activation='softmax'))\n",
        "model.compile(loss='categorical_crossentropy', optimizer='adam', metrics=['accuracy'])\n",
        "history = model.fit(input_sequences, one_hot_labels, epochs=200, verbose=1)"
      ],
      "execution_count": 7,
      "outputs": [
        {
          "output_type": "stream",
          "name": "stdout",
          "text": [
            "Epoch 1/200\n",
            "62/62 [==============================] - 10s 18ms/step - loss: 5.9826 - accuracy: 0.0277\n",
            "Epoch 2/200\n",
            "62/62 [==============================] - 1s 18ms/step - loss: 5.4498 - accuracy: 0.0383\n",
            "Epoch 3/200\n",
            "62/62 [==============================] - 1s 18ms/step - loss: 5.3685 - accuracy: 0.0399\n",
            "Epoch 4/200\n",
            "62/62 [==============================] - 1s 18ms/step - loss: 5.3152 - accuracy: 0.0434\n",
            "Epoch 5/200\n",
            "62/62 [==============================] - 1s 18ms/step - loss: 5.2445 - accuracy: 0.0429\n",
            "Epoch 6/200\n",
            "62/62 [==============================] - 1s 18ms/step - loss: 5.1745 - accuracy: 0.0409\n",
            "Epoch 7/200\n",
            "62/62 [==============================] - 1s 18ms/step - loss: 5.1119 - accuracy: 0.0429\n",
            "Epoch 8/200\n",
            "62/62 [==============================] - 1s 18ms/step - loss: 5.0547 - accuracy: 0.0489\n",
            "Epoch 9/200\n",
            "62/62 [==============================] - 1s 18ms/step - loss: 4.9939 - accuracy: 0.0570\n",
            "Epoch 10/200\n",
            "62/62 [==============================] - 1s 18ms/step - loss: 4.9359 - accuracy: 0.0671\n",
            "Epoch 11/200\n",
            "62/62 [==============================] - 1s 18ms/step - loss: 4.8586 - accuracy: 0.0737\n",
            "Epoch 12/200\n",
            "62/62 [==============================] - 1s 18ms/step - loss: 4.7872 - accuracy: 0.0762\n",
            "Epoch 13/200\n",
            "62/62 [==============================] - 1s 18ms/step - loss: 4.7050 - accuracy: 0.0812\n",
            "Epoch 14/200\n",
            "62/62 [==============================] - 1s 18ms/step - loss: 4.6279 - accuracy: 0.0893\n",
            "Epoch 15/200\n",
            "62/62 [==============================] - 1s 18ms/step - loss: 4.5453 - accuracy: 0.0984\n",
            "Epoch 16/200\n",
            "62/62 [==============================] - 1s 18ms/step - loss: 4.4626 - accuracy: 0.0999\n",
            "Epoch 17/200\n",
            "62/62 [==============================] - 1s 18ms/step - loss: 4.3778 - accuracy: 0.1206\n",
            "Epoch 18/200\n",
            "62/62 [==============================] - 1s 17ms/step - loss: 4.2900 - accuracy: 0.1241\n",
            "Epoch 19/200\n",
            "62/62 [==============================] - 1s 18ms/step - loss: 4.2090 - accuracy: 0.1423\n",
            "Epoch 20/200\n",
            "62/62 [==============================] - 1s 18ms/step - loss: 4.1271 - accuracy: 0.1554\n",
            "Epoch 21/200\n",
            "62/62 [==============================] - 1s 18ms/step - loss: 4.0445 - accuracy: 0.1645\n",
            "Epoch 22/200\n",
            "62/62 [==============================] - 1s 18ms/step - loss: 3.9586 - accuracy: 0.1887\n",
            "Epoch 23/200\n",
            "62/62 [==============================] - 1s 18ms/step - loss: 3.8826 - accuracy: 0.1968\n",
            "Epoch 24/200\n",
            "62/62 [==============================] - 1s 18ms/step - loss: 3.8100 - accuracy: 0.2089\n",
            "Epoch 25/200\n",
            "62/62 [==============================] - 1s 18ms/step - loss: 3.7267 - accuracy: 0.2235\n",
            "Epoch 26/200\n",
            "62/62 [==============================] - 1s 18ms/step - loss: 3.6548 - accuracy: 0.2452\n",
            "Epoch 27/200\n",
            "62/62 [==============================] - 1s 18ms/step - loss: 3.5825 - accuracy: 0.2684\n",
            "Epoch 28/200\n",
            "62/62 [==============================] - 1s 18ms/step - loss: 3.5077 - accuracy: 0.2861\n",
            "Epoch 29/200\n",
            "62/62 [==============================] - 1s 18ms/step - loss: 3.4338 - accuracy: 0.3017\n",
            "Epoch 30/200\n",
            "62/62 [==============================] - 1s 19ms/step - loss: 3.3716 - accuracy: 0.3128\n",
            "Epoch 31/200\n",
            "62/62 [==============================] - 1s 18ms/step - loss: 3.3114 - accuracy: 0.3335\n",
            "Epoch 32/200\n",
            "62/62 [==============================] - 1s 18ms/step - loss: 3.2400 - accuracy: 0.3436\n",
            "Epoch 33/200\n",
            "62/62 [==============================] - 1s 18ms/step - loss: 3.1826 - accuracy: 0.3572\n",
            "Epoch 34/200\n",
            "62/62 [==============================] - 1s 18ms/step - loss: 3.1215 - accuracy: 0.3613\n",
            "Epoch 35/200\n",
            "62/62 [==============================] - 1s 18ms/step - loss: 3.0596 - accuracy: 0.3759\n",
            "Epoch 36/200\n",
            "62/62 [==============================] - 1s 18ms/step - loss: 3.0134 - accuracy: 0.3905\n",
            "Epoch 37/200\n",
            "62/62 [==============================] - 1s 18ms/step - loss: 2.9445 - accuracy: 0.3986\n",
            "Epoch 38/200\n",
            "62/62 [==============================] - 1s 18ms/step - loss: 2.8829 - accuracy: 0.4198\n",
            "Epoch 39/200\n",
            "62/62 [==============================] - 1s 18ms/step - loss: 2.8212 - accuracy: 0.4092\n",
            "Epoch 40/200\n",
            "62/62 [==============================] - 1s 19ms/step - loss: 2.7723 - accuracy: 0.4364\n",
            "Epoch 41/200\n",
            "62/62 [==============================] - 1s 19ms/step - loss: 2.7123 - accuracy: 0.4541\n",
            "Epoch 42/200\n",
            "62/62 [==============================] - 1s 19ms/step - loss: 2.6607 - accuracy: 0.4596\n",
            "Epoch 43/200\n",
            "62/62 [==============================] - 1s 19ms/step - loss: 2.6123 - accuracy: 0.4783\n",
            "Epoch 44/200\n",
            "62/62 [==============================] - 1s 18ms/step - loss: 2.5506 - accuracy: 0.4884\n",
            "Epoch 45/200\n",
            "62/62 [==============================] - 1s 18ms/step - loss: 2.5080 - accuracy: 0.4955\n",
            "Epoch 46/200\n",
            "62/62 [==============================] - 1s 18ms/step - loss: 2.4687 - accuracy: 0.5081\n",
            "Epoch 47/200\n",
            "62/62 [==============================] - 1s 18ms/step - loss: 2.4214 - accuracy: 0.5166\n",
            "Epoch 48/200\n",
            "62/62 [==============================] - 1s 18ms/step - loss: 2.3761 - accuracy: 0.5242\n",
            "Epoch 49/200\n",
            "62/62 [==============================] - 1s 18ms/step - loss: 2.3300 - accuracy: 0.5333\n",
            "Epoch 50/200\n",
            "62/62 [==============================] - 1s 18ms/step - loss: 2.2865 - accuracy: 0.5469\n",
            "Epoch 51/200\n",
            "62/62 [==============================] - 1s 19ms/step - loss: 2.2468 - accuracy: 0.5499\n",
            "Epoch 52/200\n",
            "62/62 [==============================] - 1s 18ms/step - loss: 2.2050 - accuracy: 0.5600\n",
            "Epoch 53/200\n",
            "62/62 [==============================] - 1s 18ms/step - loss: 2.1542 - accuracy: 0.5686\n",
            "Epoch 54/200\n",
            "62/62 [==============================] - 1s 19ms/step - loss: 2.1122 - accuracy: 0.5792\n",
            "Epoch 55/200\n",
            "62/62 [==============================] - 1s 19ms/step - loss: 2.0716 - accuracy: 0.5838\n",
            "Epoch 56/200\n",
            "62/62 [==============================] - 1s 18ms/step - loss: 2.0408 - accuracy: 0.5822\n",
            "Epoch 57/200\n",
            "62/62 [==============================] - 1s 19ms/step - loss: 2.0091 - accuracy: 0.5863\n",
            "Epoch 58/200\n",
            "62/62 [==============================] - 1s 18ms/step - loss: 1.9786 - accuracy: 0.6004\n",
            "Epoch 59/200\n",
            "62/62 [==============================] - 1s 18ms/step - loss: 1.9693 - accuracy: 0.6100\n",
            "Epoch 60/200\n",
            "62/62 [==============================] - 1s 18ms/step - loss: 1.9214 - accuracy: 0.6070\n",
            "Epoch 61/200\n",
            "62/62 [==============================] - 1s 18ms/step - loss: 1.8814 - accuracy: 0.6327\n",
            "Epoch 62/200\n",
            "62/62 [==============================] - 1s 18ms/step - loss: 1.8523 - accuracy: 0.6322\n",
            "Epoch 63/200\n",
            "62/62 [==============================] - 1s 18ms/step - loss: 1.8101 - accuracy: 0.6418\n",
            "Epoch 64/200\n",
            "62/62 [==============================] - 1s 18ms/step - loss: 1.7753 - accuracy: 0.6463\n",
            "Epoch 65/200\n",
            "62/62 [==============================] - 1s 18ms/step - loss: 1.7625 - accuracy: 0.6468\n",
            "Epoch 66/200\n",
            "62/62 [==============================] - 1s 18ms/step - loss: 1.7428 - accuracy: 0.6559\n",
            "Epoch 67/200\n",
            "62/62 [==============================] - 1s 18ms/step - loss: 1.7097 - accuracy: 0.6625\n",
            "Epoch 68/200\n",
            "62/62 [==============================] - 1s 19ms/step - loss: 1.6752 - accuracy: 0.6670\n",
            "Epoch 69/200\n",
            "62/62 [==============================] - 1s 19ms/step - loss: 1.6312 - accuracy: 0.6771\n",
            "Epoch 70/200\n",
            "62/62 [==============================] - 1s 18ms/step - loss: 1.5980 - accuracy: 0.6867\n",
            "Epoch 71/200\n",
            "62/62 [==============================] - 1s 18ms/step - loss: 1.5897 - accuracy: 0.6862\n",
            "Epoch 72/200\n",
            "62/62 [==============================] - 1s 19ms/step - loss: 1.5574 - accuracy: 0.7008\n",
            "Epoch 73/200\n",
            "62/62 [==============================] - 1s 18ms/step - loss: 1.5502 - accuracy: 0.6942\n",
            "Epoch 74/200\n",
            "62/62 [==============================] - 1s 19ms/step - loss: 1.5294 - accuracy: 0.6963\n",
            "Epoch 75/200\n",
            "62/62 [==============================] - 1s 18ms/step - loss: 1.4857 - accuracy: 0.7053\n",
            "Epoch 76/200\n",
            "62/62 [==============================] - 1s 18ms/step - loss: 1.4587 - accuracy: 0.7074\n",
            "Epoch 77/200\n",
            "62/62 [==============================] - 1s 19ms/step - loss: 1.4321 - accuracy: 0.7164\n",
            "Epoch 78/200\n",
            "62/62 [==============================] - 1s 18ms/step - loss: 1.4090 - accuracy: 0.7200\n",
            "Epoch 79/200\n",
            "62/62 [==============================] - 1s 19ms/step - loss: 1.3830 - accuracy: 0.7250\n",
            "Epoch 80/200\n",
            "62/62 [==============================] - 1s 18ms/step - loss: 1.3754 - accuracy: 0.7306\n",
            "Epoch 81/200\n",
            "62/62 [==============================] - 1s 19ms/step - loss: 1.3627 - accuracy: 0.7306\n",
            "Epoch 82/200\n",
            "62/62 [==============================] - 1s 18ms/step - loss: 1.3459 - accuracy: 0.7397\n",
            "Epoch 83/200\n",
            "62/62 [==============================] - 1s 19ms/step - loss: 1.3130 - accuracy: 0.7422\n",
            "Epoch 84/200\n",
            "62/62 [==============================] - 1s 18ms/step - loss: 1.2945 - accuracy: 0.7442\n",
            "Epoch 85/200\n",
            "62/62 [==============================] - 1s 18ms/step - loss: 1.2657 - accuracy: 0.7497\n",
            "Epoch 86/200\n",
            "62/62 [==============================] - 1s 18ms/step - loss: 1.2759 - accuracy: 0.7422\n",
            "Epoch 87/200\n",
            "62/62 [==============================] - 1s 19ms/step - loss: 1.2528 - accuracy: 0.7497\n",
            "Epoch 88/200\n",
            "62/62 [==============================] - 1s 18ms/step - loss: 1.2351 - accuracy: 0.7513\n",
            "Epoch 89/200\n",
            "62/62 [==============================] - 1s 18ms/step - loss: 1.2295 - accuracy: 0.7533\n",
            "Epoch 90/200\n",
            "62/62 [==============================] - 1s 18ms/step - loss: 1.2124 - accuracy: 0.7558\n",
            "Epoch 91/200\n",
            "62/62 [==============================] - 1s 18ms/step - loss: 1.2413 - accuracy: 0.7457\n",
            "Epoch 92/200\n",
            "62/62 [==============================] - 1s 18ms/step - loss: 1.1843 - accuracy: 0.7608\n",
            "Epoch 93/200\n",
            "62/62 [==============================] - 1s 19ms/step - loss: 1.1713 - accuracy: 0.7603\n",
            "Epoch 94/200\n",
            "62/62 [==============================] - 1s 18ms/step - loss: 1.1416 - accuracy: 0.7634\n",
            "Epoch 95/200\n",
            "62/62 [==============================] - 1s 18ms/step - loss: 1.1179 - accuracy: 0.7760\n",
            "Epoch 96/200\n",
            "62/62 [==============================] - 1s 18ms/step - loss: 1.0988 - accuracy: 0.7775\n",
            "Epoch 97/200\n",
            "62/62 [==============================] - 1s 18ms/step - loss: 1.0780 - accuracy: 0.7785\n",
            "Epoch 98/200\n",
            "62/62 [==============================] - 1s 19ms/step - loss: 1.0606 - accuracy: 0.7841\n",
            "Epoch 99/200\n",
            "62/62 [==============================] - 1s 19ms/step - loss: 1.0714 - accuracy: 0.7856\n",
            "Epoch 100/200\n",
            "62/62 [==============================] - 1s 19ms/step - loss: 1.1038 - accuracy: 0.7689\n",
            "Epoch 101/200\n",
            "62/62 [==============================] - 1s 18ms/step - loss: 1.0638 - accuracy: 0.7815\n",
            "Epoch 102/200\n",
            "62/62 [==============================] - 1s 19ms/step - loss: 1.0352 - accuracy: 0.7851\n",
            "Epoch 103/200\n",
            "62/62 [==============================] - 1s 19ms/step - loss: 1.0096 - accuracy: 0.7967\n",
            "Epoch 104/200\n",
            "62/62 [==============================] - 1s 19ms/step - loss: 1.0147 - accuracy: 0.7936\n",
            "Epoch 105/200\n",
            "62/62 [==============================] - 1s 19ms/step - loss: 1.0127 - accuracy: 0.7846\n",
            "Epoch 106/200\n",
            "62/62 [==============================] - 1s 18ms/step - loss: 1.0298 - accuracy: 0.7846\n",
            "Epoch 107/200\n",
            "62/62 [==============================] - 1s 19ms/step - loss: 1.0086 - accuracy: 0.7911\n",
            "Epoch 108/200\n",
            "62/62 [==============================] - 1s 18ms/step - loss: 0.9789 - accuracy: 0.7972\n",
            "Epoch 109/200\n",
            "62/62 [==============================] - 1s 18ms/step - loss: 0.9526 - accuracy: 0.8042\n",
            "Epoch 110/200\n",
            "62/62 [==============================] - 1s 19ms/step - loss: 0.9375 - accuracy: 0.8078\n",
            "Epoch 111/200\n",
            "62/62 [==============================] - 1s 19ms/step - loss: 0.9164 - accuracy: 0.8073\n",
            "Epoch 112/200\n",
            "62/62 [==============================] - 1s 19ms/step - loss: 0.8957 - accuracy: 0.8189\n",
            "Epoch 113/200\n",
            "62/62 [==============================] - 1s 18ms/step - loss: 0.8948 - accuracy: 0.8143\n",
            "Epoch 114/200\n",
            "62/62 [==============================] - 1s 18ms/step - loss: 0.8749 - accuracy: 0.8214\n",
            "Epoch 115/200\n",
            "62/62 [==============================] - 1s 19ms/step - loss: 0.8643 - accuracy: 0.8244\n",
            "Epoch 116/200\n",
            "62/62 [==============================] - 1s 18ms/step - loss: 0.8474 - accuracy: 0.8239\n",
            "Epoch 117/200\n",
            "62/62 [==============================] - 1s 18ms/step - loss: 0.8399 - accuracy: 0.8249\n",
            "Epoch 118/200\n",
            "62/62 [==============================] - 1s 18ms/step - loss: 0.8257 - accuracy: 0.8264\n",
            "Epoch 119/200\n",
            "62/62 [==============================] - 1s 18ms/step - loss: 0.8160 - accuracy: 0.8305\n",
            "Epoch 120/200\n",
            "62/62 [==============================] - 1s 18ms/step - loss: 0.8091 - accuracy: 0.8290\n",
            "Epoch 121/200\n",
            "62/62 [==============================] - 1s 18ms/step - loss: 0.7976 - accuracy: 0.8355\n",
            "Epoch 122/200\n",
            "62/62 [==============================] - 1s 18ms/step - loss: 0.7987 - accuracy: 0.8280\n",
            "Epoch 123/200\n",
            "62/62 [==============================] - 1s 18ms/step - loss: 0.8447 - accuracy: 0.8239\n",
            "Epoch 124/200\n",
            "62/62 [==============================] - 1s 19ms/step - loss: 0.8190 - accuracy: 0.8239\n",
            "Epoch 125/200\n",
            "62/62 [==============================] - 1s 18ms/step - loss: 0.7763 - accuracy: 0.8345\n",
            "Epoch 126/200\n",
            "62/62 [==============================] - 1s 18ms/step - loss: 0.7621 - accuracy: 0.8385\n",
            "Epoch 127/200\n",
            "62/62 [==============================] - 1s 18ms/step - loss: 0.7477 - accuracy: 0.8401\n",
            "Epoch 128/200\n",
            "62/62 [==============================] - 1s 18ms/step - loss: 0.7344 - accuracy: 0.8421\n",
            "Epoch 129/200\n",
            "62/62 [==============================] - 1s 18ms/step - loss: 0.7320 - accuracy: 0.8446\n",
            "Epoch 130/200\n",
            "62/62 [==============================] - 1s 18ms/step - loss: 0.7434 - accuracy: 0.8396\n",
            "Epoch 131/200\n",
            "62/62 [==============================] - 1s 19ms/step - loss: 0.7240 - accuracy: 0.8481\n",
            "Epoch 132/200\n",
            "62/62 [==============================] - 1s 18ms/step - loss: 0.7075 - accuracy: 0.8421\n",
            "Epoch 133/200\n",
            "62/62 [==============================] - 1s 19ms/step - loss: 0.6993 - accuracy: 0.8502\n",
            "Epoch 134/200\n",
            "62/62 [==============================] - 1s 18ms/step - loss: 0.6894 - accuracy: 0.8491\n",
            "Epoch 135/200\n",
            "62/62 [==============================] - 1s 18ms/step - loss: 0.6836 - accuracy: 0.8542\n",
            "Epoch 136/200\n",
            "62/62 [==============================] - 1s 18ms/step - loss: 0.6750 - accuracy: 0.8537\n",
            "Epoch 137/200\n",
            "62/62 [==============================] - 1s 19ms/step - loss: 0.6700 - accuracy: 0.8542\n",
            "Epoch 138/200\n",
            "62/62 [==============================] - 1s 19ms/step - loss: 0.6713 - accuracy: 0.8542\n",
            "Epoch 139/200\n",
            "62/62 [==============================] - 1s 19ms/step - loss: 0.6623 - accuracy: 0.8537\n",
            "Epoch 140/200\n",
            "62/62 [==============================] - 1s 19ms/step - loss: 0.6516 - accuracy: 0.8562\n",
            "Epoch 141/200\n",
            "62/62 [==============================] - 1s 18ms/step - loss: 0.6490 - accuracy: 0.8577\n",
            "Epoch 142/200\n",
            "62/62 [==============================] - 1s 19ms/step - loss: 0.6387 - accuracy: 0.8572\n",
            "Epoch 143/200\n",
            "62/62 [==============================] - 1s 18ms/step - loss: 0.6280 - accuracy: 0.8633\n",
            "Epoch 144/200\n",
            "62/62 [==============================] - 1s 19ms/step - loss: 0.6205 - accuracy: 0.8613\n",
            "Epoch 145/200\n",
            "62/62 [==============================] - 1s 19ms/step - loss: 0.6164 - accuracy: 0.8613\n",
            "Epoch 146/200\n",
            "62/62 [==============================] - 1s 19ms/step - loss: 0.6101 - accuracy: 0.8638\n",
            "Epoch 147/200\n",
            "62/62 [==============================] - 1s 18ms/step - loss: 0.6063 - accuracy: 0.8618\n",
            "Epoch 148/200\n",
            "62/62 [==============================] - 1s 18ms/step - loss: 0.5959 - accuracy: 0.8613\n",
            "Epoch 149/200\n",
            "62/62 [==============================] - 1s 19ms/step - loss: 0.5866 - accuracy: 0.8688\n",
            "Epoch 150/200\n",
            "62/62 [==============================] - 1s 19ms/step - loss: 0.5820 - accuracy: 0.8678\n",
            "Epoch 151/200\n",
            "62/62 [==============================] - 1s 19ms/step - loss: 0.5783 - accuracy: 0.8688\n",
            "Epoch 152/200\n",
            "62/62 [==============================] - 1s 19ms/step - loss: 0.5742 - accuracy: 0.8638\n",
            "Epoch 153/200\n",
            "62/62 [==============================] - 1s 18ms/step - loss: 0.5755 - accuracy: 0.8668\n",
            "Epoch 154/200\n",
            "62/62 [==============================] - 1s 19ms/step - loss: 0.5733 - accuracy: 0.8693\n",
            "Epoch 155/200\n",
            "62/62 [==============================] - 1s 19ms/step - loss: 0.5755 - accuracy: 0.8653\n",
            "Epoch 156/200\n",
            "62/62 [==============================] - 1s 18ms/step - loss: 0.5851 - accuracy: 0.8602\n",
            "Epoch 157/200\n",
            "62/62 [==============================] - 1s 19ms/step - loss: 0.5695 - accuracy: 0.8648\n",
            "Epoch 158/200\n",
            "62/62 [==============================] - 1s 18ms/step - loss: 0.5629 - accuracy: 0.8658\n",
            "Epoch 159/200\n",
            "62/62 [==============================] - 1s 19ms/step - loss: 0.5799 - accuracy: 0.8587\n",
            "Epoch 160/200\n",
            "62/62 [==============================] - 1s 19ms/step - loss: 0.5817 - accuracy: 0.8587\n",
            "Epoch 161/200\n",
            "62/62 [==============================] - 1s 18ms/step - loss: 0.6079 - accuracy: 0.8537\n",
            "Epoch 162/200\n",
            "62/62 [==============================] - 1s 18ms/step - loss: 0.5791 - accuracy: 0.8628\n",
            "Epoch 163/200\n",
            "62/62 [==============================] - 1s 19ms/step - loss: 0.5437 - accuracy: 0.8759\n",
            "Epoch 164/200\n",
            "62/62 [==============================] - 1s 18ms/step - loss: 0.5297 - accuracy: 0.8739\n",
            "Epoch 165/200\n",
            "62/62 [==============================] - 1s 19ms/step - loss: 0.5279 - accuracy: 0.8764\n",
            "Epoch 166/200\n",
            "62/62 [==============================] - 1s 18ms/step - loss: 0.5236 - accuracy: 0.8703\n",
            "Epoch 167/200\n",
            "62/62 [==============================] - 1s 19ms/step - loss: 0.5097 - accuracy: 0.8739\n",
            "Epoch 168/200\n",
            "62/62 [==============================] - 1s 19ms/step - loss: 0.5037 - accuracy: 0.8754\n",
            "Epoch 169/200\n",
            "62/62 [==============================] - 1s 19ms/step - loss: 0.4975 - accuracy: 0.8774\n",
            "Epoch 170/200\n",
            "62/62 [==============================] - 1s 19ms/step - loss: 0.4932 - accuracy: 0.8789\n",
            "Epoch 171/200\n",
            "62/62 [==============================] - 1s 18ms/step - loss: 0.4879 - accuracy: 0.8835\n",
            "Epoch 172/200\n",
            "62/62 [==============================] - 1s 19ms/step - loss: 0.4867 - accuracy: 0.8799\n",
            "Epoch 173/200\n",
            "62/62 [==============================] - 1s 18ms/step - loss: 0.4828 - accuracy: 0.8804\n",
            "Epoch 174/200\n",
            "62/62 [==============================] - 1s 18ms/step - loss: 0.4772 - accuracy: 0.8804\n",
            "Epoch 175/200\n",
            "62/62 [==============================] - 1s 18ms/step - loss: 0.4761 - accuracy: 0.8829\n",
            "Epoch 176/200\n",
            "62/62 [==============================] - 1s 18ms/step - loss: 0.4738 - accuracy: 0.8829\n",
            "Epoch 177/200\n",
            "62/62 [==============================] - 1s 19ms/step - loss: 0.4675 - accuracy: 0.8845\n",
            "Epoch 178/200\n",
            "62/62 [==============================] - 1s 18ms/step - loss: 0.4610 - accuracy: 0.8794\n",
            "Epoch 179/200\n",
            "62/62 [==============================] - 1s 19ms/step - loss: 0.4645 - accuracy: 0.8814\n",
            "Epoch 180/200\n",
            "62/62 [==============================] - 1s 19ms/step - loss: 0.4712 - accuracy: 0.8845\n",
            "Epoch 181/200\n",
            "62/62 [==============================] - 1s 18ms/step - loss: 0.4828 - accuracy: 0.8804\n",
            "Epoch 182/200\n",
            "62/62 [==============================] - 1s 19ms/step - loss: 0.4835 - accuracy: 0.8713\n",
            "Epoch 183/200\n",
            "62/62 [==============================] - 1s 19ms/step - loss: 0.4753 - accuracy: 0.8789\n",
            "Epoch 184/200\n",
            "62/62 [==============================] - 1s 19ms/step - loss: 0.4602 - accuracy: 0.8789\n",
            "Epoch 185/200\n",
            "62/62 [==============================] - 1s 19ms/step - loss: 0.4525 - accuracy: 0.8855\n",
            "Epoch 186/200\n",
            "62/62 [==============================] - 1s 19ms/step - loss: 0.4438 - accuracy: 0.8855\n",
            "Epoch 187/200\n",
            "62/62 [==============================] - 1s 20ms/step - loss: 0.4378 - accuracy: 0.8885\n",
            "Epoch 188/200\n",
            "62/62 [==============================] - 1s 19ms/step - loss: 0.4433 - accuracy: 0.8865\n",
            "Epoch 189/200\n",
            "62/62 [==============================] - 1s 19ms/step - loss: 0.4365 - accuracy: 0.8845\n",
            "Epoch 190/200\n",
            "62/62 [==============================] - 1s 19ms/step - loss: 0.4437 - accuracy: 0.8865\n",
            "Epoch 191/200\n",
            "62/62 [==============================] - 1s 19ms/step - loss: 0.4483 - accuracy: 0.8840\n",
            "Epoch 192/200\n",
            "62/62 [==============================] - 1s 18ms/step - loss: 0.4275 - accuracy: 0.8935\n",
            "Epoch 193/200\n",
            "62/62 [==============================] - 1s 18ms/step - loss: 0.4213 - accuracy: 0.8910\n",
            "Epoch 194/200\n",
            "62/62 [==============================] - 1s 18ms/step - loss: 0.4229 - accuracy: 0.8905\n",
            "Epoch 195/200\n",
            "62/62 [==============================] - 1s 19ms/step - loss: 0.4202 - accuracy: 0.8870\n",
            "Epoch 196/200\n",
            "62/62 [==============================] - 1s 19ms/step - loss: 0.4135 - accuracy: 0.8925\n",
            "Epoch 197/200\n",
            "62/62 [==============================] - 1s 19ms/step - loss: 0.4023 - accuracy: 0.8905\n",
            "Epoch 198/200\n",
            "62/62 [==============================] - 1s 19ms/step - loss: 0.3991 - accuracy: 0.8920\n",
            "Epoch 199/200\n",
            "62/62 [==============================] - 1s 18ms/step - loss: 0.3958 - accuracy: 0.8930\n",
            "Epoch 200/200\n",
            "62/62 [==============================] - 1s 19ms/step - loss: 0.3988 - accuracy: 0.8930\n"
          ]
        }
      ]
    },
    {
      "cell_type": "markdown",
      "metadata": {
        "id": "AXVFpoREhV6Y"
      },
      "source": [
        "### View the Training Graph"
      ]
    },
    {
      "cell_type": "code",
      "metadata": {
        "id": "aeSNfS7uhch0",
        "outputId": "4175392b-ca8d-4044-8853-6bd0c5b1451e",
        "colab": {
          "base_uri": "https://localhost:8080/",
          "height": 279
        }
      },
      "source": [
        "import matplotlib.pyplot as plt\n",
        "\n",
        "def plot_graphs(history, string):\n",
        "  plt.plot(history.history[string])\n",
        "  plt.xlabel(\"Epochs\")\n",
        "  plt.ylabel(string)\n",
        "  plt.show()\n",
        "\n",
        "plot_graphs(history, 'accuracy')"
      ],
      "execution_count": 8,
      "outputs": [
        {
          "output_type": "display_data",
          "data": {
            "image/png": "[encoded data removed]",
            "text/plain": [
              "<Figure size 432x288 with 1 Axes>"
            ]
          },
          "metadata": {
            "needs_background": "light"
          }
        }
      ]
    },
    {
      "cell_type": "markdown",
      "metadata": {
        "id": "1rAgRpxYhjpB"
      },
      "source": [
        "### Generate new lyrics!\n",
        "\n",
        "It's finally time to generate some new lyrics from the trained model, and see what we get. To do so, we'll provide some \"seed text\", or an input sequence for the model to start with. We'll also decide just how long of an output sequence we want - this could essentially be infinite, as the input plus the previous output will be continuously fed in for a new output word (at least up to our max sequence length)."
      ]
    },
    {
      "cell_type": "code",
      "metadata": {
        "id": "DC7zfcgviDTp",
        "outputId": "569897d0-43fd-4c48-e36f-01624ac7760e",
        "colab": {
          "base_uri": "https://localhost:8080/"
        }
      },
      "source": [
        "seed_text = \"im feeling chills\"\n",
        "next_words = 100\n",
        "  \n",
        "for _ in range(next_words):\n",
        "\ttoken_list = tokenizer.texts_to_sequences([seed_text])[0]\n",
        "\ttoken_list = pad_sequences([token_list], maxlen=max_sequence_len-1, padding='pre')\n",
        "\tpredicted = np.argmax(model.predict(token_list), axis=-1)\n",
        "\toutput_word = \"\"\n",
        "\tfor word, index in tokenizer.word_index.items():\n",
        "\t\tif index == predicted:\n",
        "\t\t\toutput_word = word\n",
        "\t\t\tbreak\n",
        "\tseed_text += \" \" + output_word\n",
        "print(seed_text)"
      ],
      "execution_count": 9,
      "outputs": [
        {
          "output_type": "stream",
          "name": "stdout",
          "text": [
            "im feeling chills me again i had to your father before end but my meant to never kisses girl sender at start brother touch get brother touch get bed brother touch bed brother touch heel intention brother touch bed brother touch cryin men slowly again me down sailing end me mad sailing will end the selfish here but here again sailing me mad past feel girl mad past stuff fine fine bedumbedumdum found out sees me girl down girl mad girl mad mad feel stuff stuff stuff been past been over past warm world found did learn touch touch burying meant to but\n"
          ]
        }
      ]
    }
  ]
}