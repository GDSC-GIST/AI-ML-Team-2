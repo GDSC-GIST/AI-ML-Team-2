{
 "cells": [
  {
   "cell_type": "code",
   "execution_count": null,
   "id": "4ce6c560",
   "metadata": {},
   "outputs": [],
   "source": [
    "import tensorflow as tf\n",
    "from tensorflow.keras.preprocessing.image import ImageDataGenerator\n",
    "import os\n",
    "import numpy as np\n",
    "import matplotlib.pyplot as plt"
   ]
  },
  {
   "cell_type": "markdown",
   "id": "14e56155",
   "metadata": {},
   "source": [
    "1. Data 다운받기\n",
    "2. Data Pipeline 구축(Generator 구축 - Augmentation!)\n",
    "3. Data 가져오기 (flow_from_dirctory)\n",
    "4. Model 제작 (Flatten 이전에 Dropout)\n",
    "5. Model 컴파일 - loss, optimizer, metrics\n",
    "6. Model 훈련 - fit.generator(훈련 데이터, epoch수, validation data)\n",
    "7. Model 성능 분석 - train accuracy, validation accuray w.r.t epochs\n",
    "8. Model 사용하기 - 훈련할 때 사용한 객체.predict -> 확률값 가지는 배열 반환"
   ]
  },
  {
   "cell_type": "code",
   "execution_count": null,
   "id": "6b0efca5",
   "metadata": {},
   "outputs": [],
   "source": [
    "#Data 다운받기 - URL이용\n",
    "\n",
    "_URL = 'https://storage.googleapis.com/mledu-datasets/cats_and_dogs_filtered.zip'\n",
    "\n",
    "#(데이터 이름, URL, 압축 여부)\n",
    "zip_dir = tf.keras.utils.get_file('cats_and_dogs_filtered.zip', origin=_URL, extract=True)"
   ]
  },
  {
   "cell_type": "code",
   "execution_count": null,
   "id": "705dc853",
   "metadata": {},
   "outputs": [],
   "source": [
    "#Directory 나누기\n",
    "\n",
    "base_dir = os.path.join(os.path.dirname(zip_dir), 'cats_and_dogs_filtered')\n",
    "train_dir = os.path.join(base_dir, 'train')\n",
    "validation_dir = os.path.join(base_dir, 'validation')\n",
    "\n",
    "train_cats_dir = os.path.join(train_dir, 'cats')\n",
    "train_dogs_dir = os.path.join(train_dir, 'dogs')\n",
    "validation_cats_dir = os.path.join(validation_dir, 'cats')\n",
    "validation_dogs_dir = os.path.join(validation_dir, 'dogs')"
   ]
  },
  {
   "cell_type": "code",
   "execution_count": null,
   "id": "0949b93f",
   "metadata": {},
   "outputs": [],
   "source": [
    "#데이터 개수\n",
    "\n",
    "num_cats_tr = len(os.listdir(train_cats_dir))\n",
    "num_dogs_tr = len(os.listdir(train_dogs_dir))\n",
    "\n",
    "num_cats_val = len(os.listdir(validation_cats_dir))\n",
    "num_dogs_val = len(os.listdir(validation_dogs_dir))\n",
    "\n",
    "total_train = num_cats_tr + num_dogs_tr\n",
    "total_val = num_cats_val + num_dogs_val\n",
    "\n",
    "print('total training cat images:', num_cats_tr)\n",
    "print('total training dog images:', num_dogs_tr)\n",
    "\n",
    "print('total validation cat images:', num_cats_val)\n",
    "print('total validation dog images:', num_dogs_val)\n",
    "print(\"--\")\n",
    "print(\"Total training images:\", total_train)\n",
    "print(\"Total validation images:\", total_val)"
   ]
  },
  {
   "cell_type": "code",
   "execution_count": null,
   "id": "29822625",
   "metadata": {},
   "outputs": [],
   "source": [
    "BATCH_SIZE = 100\n",
    "IMAGE_SIZE = 150"
   ]
  },
  {
   "cell_type": "code",
   "execution_count": null,
   "id": "f352973e",
   "metadata": {},
   "outputs": [],
   "source": [
    "# This function will plot images in the form of a grid with 1 row and 5 columns where images are placed in each column.\n",
    "def plotImages(images_arr):\n",
    "    #plt.subplots 이용! 1행 5열\n",
    "    fig, axes = plt.subplots(1, 5, figsize=(20, 20))\n",
    "    axes = axes.flatten()\n",
    "    for img, ax in zip(images_arr, axes):\n",
    "        ax.imshow(img)\n",
    "    plt.tight_layout()\n",
    "    plt.show()"
   ]
  },
  {
   "cell_type": "code",
   "execution_count": null,
   "id": "93ab4856",
   "metadata": {},
   "outputs": [],
   "source": [
    "#Image Augmentation\n",
    "# ImageDataGenerator를 사용해 만든 image_gen 객체에 여러가지 argument를 추가해서\n",
    "# 수행할 수 있음!!\n",
    "\n",
    "#이미지가 변형되어 저장되도록 만드는 generator\n",
    "image_gen = ImageDataGenerator(rescale = 1./255, horizontal_flip = True)\n",
    "\n",
    "#실제로 이미지를 저장하는 객체 : 앞에서 정의한 generator.flow_from_directory\n",
    "#>>로컬에서 이미지 가져옴!\n",
    "\n",
    "train_data_gen = image_gen.flow_from_directory(batch_size = BATCH_SIZE,\n",
    "                                              directory = train_dir,\n",
    "                                              shuffle = True,\n",
    "                                              target_size = (IMG_SHAPE, IMG_SHAPE))"
   ]
  },
  {
   "cell_type": "code",
   "execution_count": null,
   "id": "a4bc554c",
   "metadata": {},
   "outputs": [],
   "source": [
    "# train_data_gen에서 이미지 1개 뽑는 과정 5회 반복\n",
    "\n",
    "augmented_images = [train_data_gen[0][0][0] for i in range(5)]\n",
    "plotImages(augmented_images)"
   ]
  },
  {
   "cell_type": "code",
   "execution_count": null,
   "id": "340aa2d7",
   "metadata": {},
   "outputs": [],
   "source": [
    "image_gen = ImageDataGenerator(rescale=1./255, rotation_range=45)\n",
    "\n",
    "train_data_gen = image_gen.flow_from_directory(batch_size=BATCH_SIZE,\n",
    "                                               directory=train_dir,\n",
    "                                               shuffle=True,\n",
    "                                               target_size=(IMG_SHAPE, IMG_SHAPE))"
   ]
  },
  {
   "cell_type": "code",
   "execution_count": null,
   "id": "42579f9f",
   "metadata": {},
   "outputs": [],
   "source": [
    "#회전 변형을 하는 과정\n",
    "\n",
    "image_gen = ImageDataGenerator(rescale = 1./255, rotation_range = 45)\n",
    "\n",
    "train_data_gen = image_gen.flow_from_directory(batch_size = BATCH_SIZE,\n",
    "                                              directory = train_dir,\n",
    "                                              shuffle = True,\n",
    "                                              target_size = (IMG_SHAPE, IMG_SHAPE))"
   ]
  },
  {
   "cell_type": "code",
   "execution_count": null,
   "id": "8c6f116c",
   "metadata": {},
   "outputs": [],
   "source": [
    "augmented_images = [train_data_gen[0][0][0] for i in range(5)]\n",
    "plotImages(augmented_images)"
   ]
  },
  {
   "cell_type": "code",
   "execution_count": null,
   "id": "9bb5c361",
   "metadata": {},
   "outputs": [],
   "source": [
    "image_gen = ImageDataGenerator(rescale=1./255, zoom_range=0.5)\n",
    "\n",
    "train_data_gen = image_gen.flow_from_directory(batch_size=BATCH_SIZE,\n",
    "                                               directory=train_dir,\n",
    "                                               shuffle=True,\n",
    "                                               target_size=(IMG_SHAPE, IMG_SHAPE))"
   ]
  },
  {
   "cell_type": "code",
   "execution_count": null,
   "id": "ba2a8e21",
   "metadata": {},
   "outputs": [],
   "source": [
    "#여러 개의 augmentation 한 번에 적용하기!\n",
    "\n",
    "image_gen_train = ImageDataGenerator(\n",
    "                rescale = 1./255,\n",
    "                rotation_range = 40,\n",
    "                shear_range = 0.2,\n",
    "                zoom_range = 0.2,\n",
    "                horizontal_flip = True,\n",
    "                width_shift_range = 0.2,\n",
    "                height_shift_range = 0.2,\n",
    "                fill_mode = ' nearest ')\n",
    "\n",
    "train_data_gen = image_gen_train.flow_from_directory(batch_size = BATCH_SIZE,\n",
    "                                                    directory = train_dir,\n",
    "                                                    shuffle = True,\n",
    "                                                    target_size = (IMG_SHAPE, IMGSHAPE),\n",
    "                                                    class_mode = 'binary')"
   ]
  },
  {
   "cell_type": "code",
   "execution_count": null,
   "id": "262b4511",
   "metadata": {},
   "outputs": [],
   "source": [
    "#validation data에는 augementation 적용하지 않음!\n",
    "#(이미지 크기 변환 제외 - 모델 인풋은 모두 같은 크기여야 하므로)\n",
    "\n",
    "image_gen_val = ImageDataGenerator(rescale=1./255)\n",
    "\n",
    "val_data_gen = image_gen_val.flow_from_directory(batch_size=BATCH_SIZE,\n",
    "                                                 directory=validation_dir,\n",
    "                                                 target_size=(IMG_SHAPE, IMG_SHAPE),\n",
    "                                                 class_mode='binary')"
   ]
  },
  {
   "cell_type": "code",
   "execution_count": null,
   "id": "fe960881",
   "metadata": {},
   "outputs": [],
   "source": [
    "#model 제작하기\n",
    "\n",
    "model = tf.keras.Sequential([\n",
    "    \n",
    "    tf.keras.layers.Conv2D(32, (3, 3), activation = 'relu', input_shape = (150, 150, 3)),\n",
    "    tf.keras.layers.MaxPooling2D((2, 2), strides = 2),\n",
    "    \n",
    "    tf.keras.layers.Conv2D(64, (3,3), activation='relu'),\n",
    "    tf.keras.layers.MaxPooling2D(2,2),\n",
    "\n",
    "    tf.keras.layers.Conv2D(128, (3,3), activation='relu'),\n",
    "    tf.keras.layers.MaxPooling2D(2,2),\n",
    "\n",
    "    tf.keras.layers.Conv2D(128, (3,3), activation='relu'),\n",
    "    tf.keras.layers.MaxPooling2D(2,2),\n",
    "    \n",
    "    #Dropout 레이어에 들어오는 모든 값은, 0.5의 확률로 '0'으로 만듦 -> 사실상 훈련에\n",
    "    #사용되지 않는 효과!\n",
    "    tf.keras.layers.Dropout(0.5)\n",
    "    tf.keras.layers.Flatten(),\n",
    "    tf.keras.layers.Dense(512, activation = 'relu'),\n",
    "    tf.keras.layers.Dense(2, activation = 'softmax')\n",
    "\n",
    "])"
   ]
  },
  {
   "cell_type": "code",
   "execution_count": null,
   "id": "f4d6034b",
   "metadata": {},
   "outputs": [],
   "source": [
    "#model 컴파일\n",
    "\n",
    "model.compile(optimizer = 'adam',\n",
    "             loss = tf.keras.losses.SparseCategoricalCrossentropy(from_logits=True),\n",
    "             metrics = ['accuracy'])"
   ]
  },
  {
   "cell_type": "code",
   "execution_count": null,
   "id": "21af64e8",
   "metadata": {},
   "outputs": [],
   "source": [
    "#model 훈련\n",
    "\n",
    "EPOCHS = 100\n",
    "\n",
    "history = model.fit_generator(\n",
    "                              train_data_gen,\n",
    "                              epochs = EPOCHS,\n",
    "                              steps_per_epoch = int(np.ceil(total_train / float(BATCH_SIZE))),\n",
    "                              validation_data = val_data_gen,\n",
    "                              validation_steps = int(np.ceil(total_val / float(BATCH_SIZE)))\n",
    "                             )"
   ]
  },
  {
   "cell_type": "code",
   "execution_count": null,
   "id": "4b66e05c",
   "metadata": {},
   "outputs": [],
   "source": [
    "#model 훈련 결과 그래프로 그리기\n",
    "#training accuracy, validation accuracy w.r.t epoch\n",
    "\n",
    "#History(학습한 모델 객체).history['accuracy'] 메타데이터로 데이터 가져옴.\n",
    "acc = history.history['accuracy']\n",
    "val_acc = history.history['val_accuracy']\n",
    "\n",
    "loss = history.history['loss']\n",
    "val_loss = history.history['val_loss']\n",
    "\n",
    "epochs_range = range(epochs)\n",
    "\n",
    "#그래프 그리기!\n",
    "\n",
    "plt.figure(figsize=(8, 8))\n",
    "plt.subplot(1, 2, 1)\n",
    "plt.plot(epochs_range, acc, label='Training Accuracy')\n",
    "plt.plot(epochs_range, val_acc, label='Validation Accuracy')\n",
    "plt.legend(loc='lower right')\n",
    "plt.title('Training and Validation Accuracy')\n",
    "\n",
    "plt.subplot(1, 2, 2)\n",
    "plt.plot(epochs_range, loss, label='Training Loss')\n",
    "plt.plot(epochs_range, val_loss, label='Validation Loss')\n",
    "plt.legend(loc='upper right')\n",
    "plt.title('Training and Validation Loss')\n",
    "plt.show()"
   ]
  },
  {
   "cell_type": "markdown",
   "id": "d8ab9fcb",
   "metadata": {},
   "source": [
    "그래프를 그려보면, 이전과 다르게 training accuracy, 그리고 validation accuracy가\n",
    "epoch 60에 도달할 때까지 비스무리하게 증가하는 걸 볼 수 있음!\n",
    "또한, epoch 60 이전까지는 training loss ,validation loss도 마찬가지로 비슷하게 감소함.\n",
    "하지만 epoch 60이후로는 training accuracy는 빠르게 증가하지만, validation accuracy는 감소하므로 현 상태의 overfitting 방지 기법(augmentation, dropout)으론 epoch 60에서 훈련을 멈추는 것이 좋음.\n",
    ">> 이전 모델보다는 훨씬 더 정확한 모델 만들 수 있음! (epoch 5 vs 60)"
   ]
  }
 ],
 "metadata": {
  "kernelspec": {
   "display_name": "Python 3 (ipykernel)",
   "language": "python",
   "name": "python3"
  },
  "language_info": {
   "codemirror_mode": {
    "name": "ipython",
    "version": 3
   },
   "file_extension": ".py",
   "mimetype": "text/x-python",
   "name": "python",
   "nbconvert_exporter": "python",
   "pygments_lexer": "ipython3",
   "version": "3.7.9"
  }
 },
 "nbformat": 4,
 "nbformat_minor": 5
}
